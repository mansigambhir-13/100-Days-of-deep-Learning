{
  "nbformat": 4,
  "nbformat_minor": 0,
  "metadata": {
    "colab": {
      "provenance": []
    },
    "kernelspec": {
      "name": "python3",
      "display_name": "Python 3"
    },
    "language_info": {
      "name": "python"
    }
  },
  "cells": [
    {
      "cell_type": "code",
      "execution_count": null,
      "metadata": {
        "colab": {
          "base_uri": "https://localhost:8080/"
        },
        "id": "VA3j64Sy9k4V",
        "outputId": "1333e6b4-125a-4b48-db53-345c29c8ece8"
      },
      "outputs": [
        {
          "output_type": "stream",
          "name": "stdout",
          "text": [
            "Collecting groq\n",
            "  Downloading groq-0.15.0-py3-none-any.whl.metadata (14 kB)\n",
            "Requirement already satisfied: anyio<5,>=3.5.0 in /usr/local/lib/python3.11/dist-packages (from groq) (3.7.1)\n",
            "Requirement already satisfied: distro<2,>=1.7.0 in /usr/local/lib/python3.11/dist-packages (from groq) (1.9.0)\n",
            "Requirement already satisfied: httpx<1,>=0.23.0 in /usr/local/lib/python3.11/dist-packages (from groq) (0.28.1)\n",
            "Requirement already satisfied: pydantic<3,>=1.9.0 in /usr/local/lib/python3.11/dist-packages (from groq) (2.10.5)\n",
            "Requirement already satisfied: sniffio in /usr/local/lib/python3.11/dist-packages (from groq) (1.3.1)\n",
            "Requirement already satisfied: typing-extensions<5,>=4.10 in /usr/local/lib/python3.11/dist-packages (from groq) (4.12.2)\n",
            "Requirement already satisfied: idna>=2.8 in /usr/local/lib/python3.11/dist-packages (from anyio<5,>=3.5.0->groq) (3.10)\n",
            "Requirement already satisfied: certifi in /usr/local/lib/python3.11/dist-packages (from httpx<1,>=0.23.0->groq) (2024.12.14)\n",
            "Requirement already satisfied: httpcore==1.* in /usr/local/lib/python3.11/dist-packages (from httpx<1,>=0.23.0->groq) (1.0.7)\n",
            "Requirement already satisfied: h11<0.15,>=0.13 in /usr/local/lib/python3.11/dist-packages (from httpcore==1.*->httpx<1,>=0.23.0->groq) (0.14.0)\n",
            "Requirement already satisfied: annotated-types>=0.6.0 in /usr/local/lib/python3.11/dist-packages (from pydantic<3,>=1.9.0->groq) (0.7.0)\n",
            "Requirement already satisfied: pydantic-core==2.27.2 in /usr/local/lib/python3.11/dist-packages (from pydantic<3,>=1.9.0->groq) (2.27.2)\n",
            "Downloading groq-0.15.0-py3-none-any.whl (109 kB)\n",
            "\u001b[2K   \u001b[90m━━━━━━━━━━━━━━━━━━━━━━━━━━━━━━━━━━━━━━━━\u001b[0m \u001b[32m109.6/109.6 kB\u001b[0m \u001b[31m1.8 MB/s\u001b[0m eta \u001b[36m0:00:00\u001b[0m\n",
            "\u001b[?25hInstalling collected packages: groq\n",
            "Successfully installed groq-0.15.0\n"
          ]
        }
      ],
      "source": [
        "import tensorflow as tf\n",
        "!pip install groq\n"
      ]
    },
    {
      "cell_type": "code",
      "source": [
        "import tensorflow as tf\n",
        "\n",
        "# Scalar (0D Tensor)\n",
        "scalar = tf.constant(5)\n",
        "\n",
        "# Vector (1D Tensor)\n",
        "vector = tf.constant([1, 2, 3])\n",
        "\n",
        "# Matrix (2D Tensor)\n",
        "matrix = tf.constant([[1, 2], [3, 4]])\n",
        "\n",
        "# 3D Tensor\n",
        "tensor_3d = tf.constant([\n",
        "    [[1, 2], [3, 4]],\n",
        "    [[5, 6], [7, 8]]\n",
        "])\n",
        "\n",
        "print(\"Scalar:\", scalar)\n",
        "print(\"Vector:\", vector)\n",
        "print(\"Matrix:\", matrix)\n",
        "print(\"3D Tensor:\", tensor_3d)\n"
      ],
      "metadata": {
        "colab": {
          "base_uri": "https://localhost:8080/"
        },
        "id": "75vt-XpJ527D",
        "outputId": "aa837ab4-3259-42ff-963b-591c2dd869c2"
      },
      "execution_count": null,
      "outputs": [
        {
          "output_type": "stream",
          "name": "stdout",
          "text": [
            "Scalar: tf.Tensor(5, shape=(), dtype=int32)\n",
            "Vector: tf.Tensor([1 2 3], shape=(3,), dtype=int32)\n",
            "Matrix: tf.Tensor(\n",
            "[[1 2]\n",
            " [3 4]], shape=(2, 2), dtype=int32)\n",
            "3D Tensor: tf.Tensor(\n",
            "[[[1 2]\n",
            "  [3 4]]\n",
            "\n",
            " [[5 6]\n",
            "  [7 8]]], shape=(2, 2, 2), dtype=int32)\n"
          ]
        }
      ]
    },
    {
      "cell_type": "code",
      "source": [
        "house_features = tf.constant([1200, 3, 15])  # 1200 sq ft, 3 bedrooms, 15 years old\n",
        "customer_data = tf.constant([\n",
        "    [25, 4.5, 10],  # Customer 1: 25 years old, 4.5 rating, 10 purchases\n",
        "    [35, 4.0, 5],   # Customer 2: 35 years old, 4.0 rating, 5 purchases\n",
        "]) # Corrected indentation and completed the assignment to customer_data\n"
      ],
      "metadata": {
        "id": "4MINWLCABnxn"
      },
      "execution_count": null,
      "outputs": []
    },
    {
      "cell_type": "code",
      "source": [
        "stock_data = tf.constant([\n",
        "    [[100, 105, 1000], [101, 106, 1200]],  # Day 1 for 2 companies\n",
        "    [[102, 108, 1300], [103, 110, 1500]],  # Day 2 for 2 companies\n",
        "])\n",
        "# Shape: (2, 2, 3) --> 2 days, 2 companies, 3 features (open, close, volume)\n"
      ],
      "metadata": {
        "id": "YKN_8ZMPBzdl"
      },
      "execution_count": null,
      "outputs": []
    },
    {
      "cell_type": "code",
      "source": [
        "import tensorflow as tf\n",
        "\n",
        "# A scalar constant\n",
        "scalar_constant = tf.constant(5)\n",
        "\n",
        "# A 1D constant tensor\n",
        "vector_constant = tf.constant([1, 2, 3])\n",
        "\n",
        "# A 2D constant tensor\n",
        "matrix_constant = tf.constant([[1, 2], [3, 4]])\n"
      ],
      "metadata": {
        "id": "ta28jNoMB0cn"
      },
      "execution_count": null,
      "outputs": []
    },
    {
      "cell_type": "code",
      "source": [
        "baking_time = tf.constant(30)  # 30 minutes\n"
      ],
      "metadata": {
        "id": "lY6B_1BiCDFT"
      },
      "execution_count": null,
      "outputs": []
    },
    {
      "cell_type": "code",
      "source": [
        "# A scalar variable\n",
        "scalar_variable = tf.Variable(5)\n",
        "\n",
        "# A 1D variable tensor\n",
        "vector_variable = tf.Variable([1, 2, 3])\n",
        "\n",
        "# A 2D variable tensor\n",
        "matrix_variable = tf.Variable([[1, 2], [3, 4]])\n"
      ],
      "metadata": {
        "id": "-sf4_kirCFYK"
      },
      "execution_count": null,
      "outputs": []
    },
    {
      "cell_type": "code",
      "source": [
        "scalar_variable.assign(10)  # Update the value to 10\n",
        "print(scalar_variable.numpy())  # Output: 10\n"
      ],
      "metadata": {
        "colab": {
          "base_uri": "https://localhost:8080/"
        },
        "id": "1k6Bwb60CI97",
        "outputId": "1b9d5671-44a6-44fa-d465-b02c78da23e9"
      },
      "execution_count": null,
      "outputs": [
        {
          "output_type": "stream",
          "name": "stdout",
          "text": [
            "10\n"
          ]
        }
      ]
    },
    {
      "cell_type": "code",
      "source": [
        "skill_level = tf.Variable(1)  # Starting level\n",
        "skill_level.assign(skill_level + 1)  # Improved by 1 after baking\n"
      ],
      "metadata": {
        "colab": {
          "base_uri": "https://localhost:8080/"
        },
        "id": "_EL_iPwSCLiY",
        "outputId": "7ad6ad3f-ac0f-4305-d494-2954e0214a31"
      },
      "execution_count": null,
      "outputs": [
        {
          "output_type": "execute_result",
          "data": {
            "text/plain": [
              "<tf.Variable 'UnreadVariable' shape=() dtype=int32, numpy=2>"
            ]
          },
          "metadata": {},
          "execution_count": 10
        }
      ]
    },
    {
      "cell_type": "code",
      "source": [
        "# Constants: Fixed learning rate\n",
        "learning_rate = tf.constant(0.01)\n",
        "\n",
        "# Variable: Weight (to be updated during training)\n",
        "weight = tf.Variable(1.0)\n",
        "\n",
        "# Input and target\n",
        "input_value = tf.constant(2.0)\n",
        "target_value = tf.constant(4.0)\n",
        "\n",
        "# Simple training step: Adjust weight\n",
        "with tf.GradientTape() as tape:\n",
        "    prediction = weight * input_value  # Prediction\n",
        "    loss = (prediction - target_value) ** 2  # Mean squared error\n",
        "\n",
        "# Calculate gradient and update weight\n",
        "gradient = tape.gradient(loss, weight)\n",
        "weight.assign(weight - learning_rate * gradient)\n",
        "\n",
        "print(\"Updated weight:\", weight.numpy())\n"
      ],
      "metadata": {
        "colab": {
          "base_uri": "https://localhost:8080/"
        },
        "id": "PAAT0am_CPJC",
        "outputId": "15471ac5-c7c2-4363-f901-cf460bb239dc"
      },
      "execution_count": null,
      "outputs": [
        {
          "output_type": "stream",
          "name": "stdout",
          "text": [
            "Updated weight: 1.08\n"
          ]
        }
      ]
    },
    {
      "cell_type": "code",
      "source": [
        "# Generate a random tensor with mean=0 and stddev=1\n",
        "random_normal = tf.random.normal(shape=(3, 3), mean=0, stddev=1)\n",
        "print(\"Random Normal Tensor:\\n\", random_normal)\n"
      ],
      "metadata": {
        "colab": {
          "base_uri": "https://localhost:8080/"
        },
        "id": "6HOWrEiGCS7z",
        "outputId": "242b18fe-a2b1-4f28-8249-3d8a273e894a"
      },
      "execution_count": null,
      "outputs": [
        {
          "output_type": "stream",
          "name": "stdout",
          "text": [
            "Random Normal Tensor:\n",
            " tf.Tensor(\n",
            "[[-0.00769497 -1.1714327   2.3390753 ]\n",
            " [-0.15136808 -1.1459478   0.7216296 ]\n",
            " [ 0.3747557  -0.06532387 -1.0344504 ]], shape=(3, 3), dtype=float32)\n"
          ]
        }
      ]
    },
    {
      "cell_type": "code",
      "source": [
        "# Generate random integers between 1 and 10\n",
        "random_integers = tf.random.uniform(shape=(3, 3), minval=1, maxval=10, dtype=tf.int32)\n",
        "print(\"Random Integer Tensor:\\n\", random_integers)\n"
      ],
      "metadata": {
        "colab": {
          "base_uri": "https://localhost:8080/"
        },
        "id": "tuUBZvhmCVZj",
        "outputId": "cc248410-bcf4-4ab1-cc60-1428d668e24e"
      },
      "execution_count": null,
      "outputs": [
        {
          "output_type": "stream",
          "name": "stdout",
          "text": [
            "Random Integer Tensor:\n",
            " tf.Tensor(\n",
            "[[6 6 9]\n",
            " [1 7 9]\n",
            " [7 8 3]], shape=(3, 3), dtype=int32)\n"
          ]
        }
      ]
    },
    {
      "cell_type": "code",
      "source": [
        "weights = tf.random.normal(shape=(3, 2), mean=0, stddev=1)\n",
        "print(\"Randomly Initialized Weights:\\n\", weights)\n"
      ],
      "metadata": {
        "colab": {
          "base_uri": "https://localhost:8080/"
        },
        "id": "st_4RKW_CaYA",
        "outputId": "4ed3906e-d27f-45e2-fe6c-1750b5a158d9"
      },
      "execution_count": null,
      "outputs": [
        {
          "output_type": "stream",
          "name": "stdout",
          "text": [
            "Randomly Initialized Weights:\n",
            " tf.Tensor(\n",
            "[[-0.4688906   1.0371823 ]\n",
            " [-0.01874627  1.1843141 ]\n",
            " [ 0.31020302  0.22864063]], shape=(3, 2), dtype=float32)\n"
          ]
        }
      ]
    },
    {
      "cell_type": "code",
      "source": [
        "tensor_a = tf.random.uniform(shape=(3, 3), minval=0, maxval=5)\n",
        "tensor_b = tf.random.uniform(shape=(3, 3), minval=0, maxval=5)\n",
        "\n",
        "# Add and subtract tensors\n",
        "result_add = tensor_a + tensor_b\n",
        "result_sub = tensor_a - tensor_b\n",
        "\n",
        "print(\"Addition:\\n\", result_add)\n",
        "print(\"Subtraction:\\n\", result_sub)\n"
      ],
      "metadata": {
        "colab": {
          "base_uri": "https://localhost:8080/"
        },
        "id": "uWew4va1CdmJ",
        "outputId": "0a4d5f85-057a-4f9d-a01a-a86d8a47ce8f"
      },
      "execution_count": null,
      "outputs": [
        {
          "output_type": "stream",
          "name": "stdout",
          "text": [
            "Addition:\n",
            " tf.Tensor(\n",
            "[[4.742097   7.7932625  9.26586   ]\n",
            " [0.86116433 4.3756895  7.4394474 ]\n",
            " [7.674762   5.023905   6.7534714 ]], shape=(3, 3), dtype=float32)\n",
            "Subtraction:\n",
            " tf.Tensor(\n",
            "[[ 3.1763046   1.8971827   0.02711105]\n",
            " [-0.1808393  -1.2501258   0.28902888]\n",
            " [-1.1038656   1.4811944   0.64757156]], shape=(3, 3), dtype=float32)\n"
          ]
        }
      ]
    },
    {
      "cell_type": "code",
      "source": [
        "result_mul = tensor_a * tensor_b\n",
        "result_div = tensor_a / tensor_b\n",
        "\n",
        "print(\"Multiplication:\\n\", result_mul)\n",
        "print(\"Division:\\n\", result_div)\n"
      ],
      "metadata": {
        "colab": {
          "base_uri": "https://localhost:8080/"
        },
        "id": "f4yoWdCnCgZO",
        "outputId": "534b0264-ce51-4f21-89b4-0158c649676e"
      },
      "execution_count": null,
      "outputs": [
        {
          "output_type": "stream",
          "name": "stdout",
          "text": [
            "Multiplication:\n",
            " tf.Tensor(\n",
            "[[ 3.0996437  14.283909   21.463856  ]\n",
            " [ 0.17722529  4.3959613  13.815461  ]\n",
            " [14.420862    5.7614207  11.297506  ]], shape=(3, 3), dtype=float32)\n",
            "Division:\n",
            " tf.Tensor(\n",
            "[[5.0571203  1.6435404  1.005869  ]\n",
            " [0.6529008  0.55557525 1.0808425 ]\n",
            " [0.74851066 1.8361927  1.2121134 ]], shape=(3, 3), dtype=float32)\n"
          ]
        }
      ]
    },
    {
      "cell_type": "code",
      "source": [
        "tensor_a = tf.random.uniform(shape=(3, 2), minval=0, maxval=5)\n",
        "tensor_b = tf.random.uniform(shape=(2, 3), minval=0, maxval=5)\n",
        "\n",
        "result_matmul = tf.matmul(tensor_a, tensor_b)\n",
        "\n",
        "print(\"Matrix Multiplication:\\n\", result_matmul)\n"
      ],
      "metadata": {
        "colab": {
          "base_uri": "https://localhost:8080/"
        },
        "id": "iHDgAzPdCjMe",
        "outputId": "fb4931c2-f530-4ae1-a3c6-7a1e0b636a83"
      },
      "execution_count": null,
      "outputs": [
        {
          "output_type": "stream",
          "name": "stdout",
          "text": [
            "Matrix Multiplication:\n",
            " tf.Tensor(\n",
            "[[ 8.202198   7.319152   6.0668097]\n",
            " [10.296858   8.548551  11.103822 ]\n",
            " [ 9.905375   8.634735   8.4399605]], shape=(3, 3), dtype=float32)\n"
          ]
        }
      ]
    },
    {
      "cell_type": "code",
      "source": [
        "random_tensor = tf.random.normal(shape=(3, 3), mean=0, stddev=1)\n",
        "\n",
        "# Mean and standard deviation\n",
        "mean = tf.reduce_mean(random_tensor)\n",
        "stddev = tf.math.reduce_std(random_tensor)\n",
        "\n",
        "print(\"Mean:\", mean.numpy())\n",
        "print(\"Standard Deviation:\", stddev.numpy())\n"
      ],
      "metadata": {
        "colab": {
          "base_uri": "https://localhost:8080/"
        },
        "id": "EQGTlksKClb_",
        "outputId": "c49b49ef-1bef-43b5-c603-28f694cd0170"
      },
      "execution_count": null,
      "outputs": [
        {
          "output_type": "stream",
          "name": "stdout",
          "text": [
            "Mean: -0.511826\n",
            "Standard Deviation: 0.7239198\n"
          ]
        }
      ]
    },
    {
      "cell_type": "code",
      "source": [
        "import tensorflow as tf\n",
        "\n",
        "# Create a 2D tensor (like a dataset with rows as samples)\n",
        "data = tf.constant([[1, 2], [3, 4], [5, 6], [7, 8]])\n",
        "\n",
        "# Shuffle the rows\n",
        "shuffled_data = tf.random.shuffle(data)\n",
        "\n",
        "print(\"Original Tensor:\\n\", data)\n",
        "print(\"Shuffled Tensor:\\n\", shuffled_data)\n"
      ],
      "metadata": {
        "colab": {
          "base_uri": "https://localhost:8080/"
        },
        "id": "mNXugSqECoaa",
        "outputId": "e79fd4ee-ff25-429d-fd8e-962aada2f366"
      },
      "execution_count": null,
      "outputs": [
        {
          "output_type": "stream",
          "name": "stdout",
          "text": [
            "Original Tensor:\n",
            " tf.Tensor(\n",
            "[[1 2]\n",
            " [3 4]\n",
            " [5 6]\n",
            " [7 8]], shape=(4, 2), dtype=int32)\n",
            "Shuffled Tensor:\n",
            " tf.Tensor(\n",
            "[[3 4]\n",
            " [7 8]\n",
            " [1 2]\n",
            " [5 6]], shape=(4, 2), dtype=int32)\n"
          ]
        }
      ]
    },
    {
      "cell_type": "code",
      "source": [
        "# Shuffle with a seed\n",
        "shuffled_data = tf.random.shuffle(data, seed=42)\n",
        "\n",
        "print(\"Shuffled Tensor with Seed:\\n\", shuffled_data)\n"
      ],
      "metadata": {
        "colab": {
          "base_uri": "https://localhost:8080/"
        },
        "id": "k3tkBwX1Crfu",
        "outputId": "f9d7ffe3-3665-4765-fe77-bb6850c2f4c9"
      },
      "execution_count": null,
      "outputs": [
        {
          "output_type": "stream",
          "name": "stdout",
          "text": [
            "Shuffled Tensor with Seed:\n",
            " tf.Tensor(\n",
            "[[1 2]\n",
            " [5 6]\n",
            " [7 8]\n",
            " [3 4]], shape=(4, 2), dtype=int32)\n"
          ]
        }
      ]
    },
    {
      "cell_type": "code",
      "source": [
        "# A dataset (e.g., [size, bedrooms])\n",
        "dataset = tf.constant([[1200, 3], [1400, 4], [1000, 2], [1800, 5]])\n",
        "\n",
        "# Shuffle the dataset\n",
        "shuffled_dataset = tf.random.shuffle(dataset)\n",
        "\n",
        "print(\"Original Dataset:\\n\", dataset)\n",
        "print(\"Shuffled Dataset:\\n\", shuffled_dataset)\n"
      ],
      "metadata": {
        "colab": {
          "base_uri": "https://localhost:8080/"
        },
        "id": "cG0aY2hKCuc-",
        "outputId": "2a6e2af2-a2b4-4699-c7f8-3e6a78e43ec5"
      },
      "execution_count": null,
      "outputs": [
        {
          "output_type": "stream",
          "name": "stdout",
          "text": [
            "Original Dataset:\n",
            " tf.Tensor(\n",
            "[[1200    3]\n",
            " [1400    4]\n",
            " [1000    2]\n",
            " [1800    5]], shape=(4, 2), dtype=int32)\n",
            "Shuffled Dataset:\n",
            " tf.Tensor(\n",
            "[[1000    2]\n",
            " [1800    5]\n",
            " [1200    3]\n",
            " [1400    4]], shape=(4, 2), dtype=int32)\n"
          ]
        }
      ]
    },
    {
      "cell_type": "code",
      "source": [
        "# Features and labels\n",
        "features = tf.constant([[1, 2], [3, 4], [5, 6], [7, 8]])  # Features\n",
        "labels = tf.constant([0, 1, 0, 1])  # Labels\n",
        "\n",
        "# Combine features and labels into a single tensor\n",
        "dataset = tf.data.Dataset.from_tensor_slices((features, labels))\n",
        "\n",
        "# Shuffle the dataset\n",
        "shuffled_dataset = dataset.shuffle(buffer_size=4)\n",
        "\n",
        "for feature, label in shuffled_dataset:\n",
        "    print(\"Feature:\", feature.numpy(), \"Label:\", label.numpy())\n"
      ],
      "metadata": {
        "colab": {
          "base_uri": "https://localhost:8080/"
        },
        "id": "AnFK871bCwrW",
        "outputId": "50282cd3-8950-40ce-dafe-27db98e035ab"
      },
      "execution_count": null,
      "outputs": [
        {
          "output_type": "stream",
          "name": "stdout",
          "text": [
            "Feature: [3 4] Label: 1\n",
            "Feature: [5 6] Label: 0\n",
            "Feature: [1 2] Label: 0\n",
            "Feature: [7 8] Label: 1\n"
          ]
        }
      ]
    },
    {
      "cell_type": "code",
      "source": [
        "# Create a tensor of shape (2, 3) filled with zeros\n",
        "zeros_tensor = tf.zeros(shape=(2, 3))\n",
        "print(\"Zeros Tensor:\\n\", zeros_tensor)\n"
      ],
      "metadata": {
        "colab": {
          "base_uri": "https://localhost:8080/"
        },
        "id": "-biDZQLTC0F8",
        "outputId": "a0747b82-9ae0-4d19-f8c5-f123049665ca"
      },
      "execution_count": null,
      "outputs": [
        {
          "output_type": "stream",
          "name": "stdout",
          "text": [
            "Zeros Tensor:\n",
            " tf.Tensor(\n",
            "[[0. 0. 0.]\n",
            " [0. 0. 0.]], shape=(2, 3), dtype=float32)\n"
          ]
        }
      ]
    },
    {
      "cell_type": "code",
      "source": [
        "# Create a tensor of shape (3, 2) filled with ones\n",
        "ones_tensor = tf.ones(shape=(3, 2))\n",
        "print(\"Ones Tensor:\\n\", ones_tensor)\n"
      ],
      "metadata": {
        "colab": {
          "base_uri": "https://localhost:8080/"
        },
        "id": "W2OAG_61C2Km",
        "outputId": "48969b84-7839-4972-d519-47bc1a92a52d"
      },
      "execution_count": null,
      "outputs": [
        {
          "output_type": "stream",
          "name": "stdout",
          "text": [
            "Ones Tensor:\n",
            " tf.Tensor(\n",
            "[[1. 1.]\n",
            " [1. 1.]\n",
            " [1. 1.]], shape=(3, 2), dtype=float32)\n"
          ]
        }
      ]
    },
    {
      "cell_type": "code",
      "source": [
        "# Create a tensor of shape (2, 3) filled with value 7\n",
        "filled_tensor = tf.fill(dims=(2, 3), value=7)\n",
        "print(\"Filled Tensor:\\n\", filled_tensor)\n"
      ],
      "metadata": {
        "colab": {
          "base_uri": "https://localhost:8080/"
        },
        "id": "jZhA3oZBC4XO",
        "outputId": "5ca49588-41a1-41f9-c4ec-5a6438d9b540"
      },
      "execution_count": null,
      "outputs": [
        {
          "output_type": "stream",
          "name": "stdout",
          "text": [
            "Filled Tensor:\n",
            " tf.Tensor(\n",
            "[[7 7 7]\n",
            " [7 7 7]], shape=(2, 3), dtype=int32)\n"
          ]
        }
      ]
    },
    {
      "cell_type": "code",
      "source": [
        "# Create a tensor with values from 0 to 9 (step=1)\n",
        "range_tensor = tf.range(start=0, limit=10, delta=1)\n",
        "print(\"Range Tensor:\\n\", range_tensor)\n"
      ],
      "metadata": {
        "colab": {
          "base_uri": "https://localhost:8080/"
        },
        "id": "0xMWzcaDC6p3",
        "outputId": "076686e2-43b3-4533-babb-03644cc49729"
      },
      "execution_count": null,
      "outputs": [
        {
          "output_type": "stream",
          "name": "stdout",
          "text": [
            "Range Tensor:\n",
            " tf.Tensor([0 1 2 3 4 5 6 7 8 9], shape=(10,), dtype=int32)\n"
          ]
        }
      ]
    },
    {
      "cell_type": "code",
      "source": [
        "# Create a tensor with values from 0 to 9 (step=1)\n",
        "range_tensor = tf.range(start=0, limit=10, delta=1)\n",
        "print(\"Range Tensor:\\n\", range_tensor)\n"
      ],
      "metadata": {
        "colab": {
          "base_uri": "https://localhost:8080/"
        },
        "id": "MFSm_FehC8zR",
        "outputId": "7979a075-728c-4eee-fd25-e12eac399b30"
      },
      "execution_count": null,
      "outputs": [
        {
          "output_type": "stream",
          "name": "stdout",
          "text": [
            "Range Tensor:\n",
            " tf.Tensor([0 1 2 3 4 5 6 7 8 9], shape=(10,), dtype=int32)\n"
          ]
        }
      ]
    },
    {
      "cell_type": "code",
      "source": [
        "# Create a tensor with 5 values evenly spaced between 0 and 1\n",
        "linspace_tensor = tf.linspace(start=0.0, stop=1.0, num=5)\n",
        "print(\"Linspace Tensor:\\n\", linspace_tensor)\n"
      ],
      "metadata": {
        "colab": {
          "base_uri": "https://localhost:8080/"
        },
        "id": "CAZkL6TjC_vx",
        "outputId": "0032ce31-ef2d-4166-e358-1f46207472d3"
      },
      "execution_count": null,
      "outputs": [
        {
          "output_type": "stream",
          "name": "stdout",
          "text": [
            "Linspace Tensor:\n",
            " tf.Tensor([0.   0.25 0.5  0.75 1.  ], shape=(5,), dtype=float32)\n"
          ]
        }
      ]
    },
    {
      "cell_type": "code",
      "source": [
        "identity_matrix = tf.eye(num_rows=3, num_columns=3)\n",
        "print(\"Identity Matrix:\\n\", identity_matrix)\n"
      ],
      "metadata": {
        "colab": {
          "base_uri": "https://localhost:8080/"
        },
        "id": "5AYjPS6fDByw",
        "outputId": "f7577f12-4d64-4a08-f5b8-0ea00e111a14"
      },
      "execution_count": null,
      "outputs": [
        {
          "output_type": "stream",
          "name": "stdout",
          "text": [
            "Identity Matrix:\n",
            " tf.Tensor(\n",
            "[[1. 0. 0.]\n",
            " [0. 1. 0.]\n",
            " [0. 0. 1.]], shape=(3, 3), dtype=float32)\n"
          ]
        }
      ]
    },
    {
      "cell_type": "code",
      "source": [
        "diagonal_tensor = tf.linalg.diag([1, 2, 3])\n",
        "print(\"Diagonal Tensor:\\n\", diagonal_tensor)\n"
      ],
      "metadata": {
        "colab": {
          "base_uri": "https://localhost:8080/"
        },
        "id": "WLu5_CtCDEAU",
        "outputId": "4a674b1b-1c1f-40d4-b75f-cf9de39a8c0d"
      },
      "execution_count": null,
      "outputs": [
        {
          "output_type": "stream",
          "name": "stdout",
          "text": [
            "Diagonal Tensor:\n",
            " tf.Tensor(\n",
            "[[1 0 0]\n",
            " [0 2 0]\n",
            " [0 0 3]], shape=(3, 3), dtype=int32)\n"
          ]
        }
      ]
    },
    {
      "cell_type": "code",
      "source": [
        "import numpy as np\n",
        "\n",
        "# Create a NumPy array\n",
        "numpy_array = np.array([[1, 2], [3, 4]])\n",
        "\n",
        "# Convert to TensorFlow tensor\n",
        "tensor_from_numpy = tf.convert_to_tensor(numpy_array)\n",
        "print(\"Tensor from NumPy:\\n\", tensor_from_numpy)\n"
      ],
      "metadata": {
        "colab": {
          "base_uri": "https://localhost:8080/"
        },
        "id": "iGL7ciSoDGAf",
        "outputId": "d5918d6c-dcb4-4376-8000-f7abe30284a5"
      },
      "execution_count": null,
      "outputs": [
        {
          "output_type": "stream",
          "name": "stdout",
          "text": [
            "Tensor from NumPy:\n",
            " tf.Tensor(\n",
            "[[1 2]\n",
            " [3 4]], shape=(2, 2), dtype=int64)\n"
          ]
        }
      ]
    },
    {
      "cell_type": "code",
      "source": [
        "tensor = tf.constant([[1, 2, 3], [4, 5, 6]])\n",
        "zeros_like_tensor = tf.zeros_like(tensor)\n",
        "print(\"Zeros Like Tensor:\\n\", zeros_like_tensor)\n"
      ],
      "metadata": {
        "colab": {
          "base_uri": "https://localhost:8080/"
        },
        "id": "XfuXA-bJDJGy",
        "outputId": "1c506299-2cc2-4500-8ce4-249d0fe6f786"
      },
      "execution_count": null,
      "outputs": [
        {
          "output_type": "stream",
          "name": "stdout",
          "text": [
            "Zeros Like Tensor:\n",
            " tf.Tensor(\n",
            "[[0 0 0]\n",
            " [0 0 0]], shape=(2, 3), dtype=int32)\n"
          ]
        }
      ]
    },
    {
      "cell_type": "code",
      "source": [
        "ones_like_tensor = tf.ones_like(tensor)\n",
        "print(\"Ones Like Tensor:\\n\", ones_like_tensor)\n"
      ],
      "metadata": {
        "colab": {
          "base_uri": "https://localhost:8080/"
        },
        "id": "9GKPTz_cDMmI",
        "outputId": "8dbc02a8-07b8-4eab-867d-2008b764cf70"
      },
      "execution_count": null,
      "outputs": [
        {
          "output_type": "stream",
          "name": "stdout",
          "text": [
            "Ones Like Tensor:\n",
            " tf.Tensor(\n",
            "[[1 1 1]\n",
            " [1 1 1]], shape=(2, 3), dtype=int32)\n"
          ]
        }
      ]
    },
    {
      "cell_type": "code",
      "source": [
        "# Create a tensor from a Python list\n",
        "list_tensor = tf.convert_to_tensor([[1, 2, 3], [4, 5, 6]])\n",
        "print(\"Tensor from List:\\n\", list_tensor)\n"
      ],
      "metadata": {
        "colab": {
          "base_uri": "https://localhost:8080/"
        },
        "id": "7vHsDSPLDOxY",
        "outputId": "860ba4dc-fc3d-4059-ec31-ef64d5c1b584"
      },
      "execution_count": null,
      "outputs": [
        {
          "output_type": "stream",
          "name": "stdout",
          "text": [
            "Tensor from List:\n",
            " tf.Tensor(\n",
            "[[1 2 3]\n",
            " [4 5 6]], shape=(2, 3), dtype=int32)\n"
          ]
        }
      ]
    },
    {
      "cell_type": "code",
      "source": [
        "# Create a sparse tensor\n",
        "sparse_tensor = tf.sparse.SparseTensor(\n",
        "    indices=[[0, 0], [1, 2]],  # Locations of non-zero values\n",
        "    values=[1, 2],             # Non-zero values\n",
        "    dense_shape=[3, 4]         # Shape of the tensor\n",
        ")\n",
        "\n",
        "# Convert sparse tensor to dense for visualization\n",
        "dense_tensor = tf.sparse.to_dense(sparse_tensor)\n",
        "print(\"Sparse Tensor as Dense:\\n\", dense_tensor)\n"
      ],
      "metadata": {
        "colab": {
          "base_uri": "https://localhost:8080/"
        },
        "id": "VuPtoDS8DR1c",
        "outputId": "b234d403-0010-4531-adfb-c97642dc7726"
      },
      "execution_count": null,
      "outputs": [
        {
          "output_type": "stream",
          "name": "stdout",
          "text": [
            "Sparse Tensor as Dense:\n",
            " tf.Tensor(\n",
            "[[1 0 0 0]\n",
            " [0 0 2 0]\n",
            " [0 0 0 0]], shape=(3, 4), dtype=int32)\n"
          ]
        }
      ]
    },
    {
      "cell_type": "code",
      "source": [
        "# Define a Python function\n",
        "def my_func(x):\n",
        "    return x * x\n",
        "\n",
        "# Use `tf.map_fn` to apply the function element-wise\n",
        "result_tensor = tf.map_fn(my_func, tf.constant([1, 2, 3]))\n",
        "print(\"Tensor from Function:\\n\", result_tensor)\n"
      ],
      "metadata": {
        "colab": {
          "base_uri": "https://localhost:8080/"
        },
        "id": "Z7hjzLnfDUGu",
        "outputId": "3d31a263-bec4-4d32-e3f0-e4dce46ad0be"
      },
      "execution_count": null,
      "outputs": [
        {
          "output_type": "stream",
          "name": "stdout",
          "text": [
            "Tensor from Function:\n",
            " tf.Tensor([1 4 9], shape=(3,), dtype=int32)\n"
          ]
        }
      ]
    },
    {
      "cell_type": "code",
      "source": [
        "import tensorflow as tf\n",
        "\n",
        "# Create a 2D tensor\n",
        "tensor = tf.constant([[1, 2, 3], [4, 5, 6]])\n",
        "\n",
        "# Get the shape of the tensor\n",
        "shape = tf.shape(tensor)\n",
        "print(\"Shape of the tensor:\", shape.numpy())  # Output: [2, 3] # 2 rows and 3 colums\n"
      ],
      "metadata": {
        "id": "M9f4AoDZDWhL",
        "colab": {
          "base_uri": "https://localhost:8080/"
        },
        "outputId": "ee30d6a9-c8c6-460c-a076-7683d1ab0d27"
      },
      "execution_count": 1,
      "outputs": [
        {
          "output_type": "stream",
          "name": "stdout",
          "text": [
            "Shape of the tensor: [2 3]\n"
          ]
        }
      ]
    },
    {
      "cell_type": "code",
      "source": [
        "tensor_3d = tf.constant([\n",
        "    [[1, 2], [3, 4]],\n",
        "    [[5, 6], [7, 8]]\n",
        "])\n",
        "print(\"Shape of the tensor:\", tensor_3d.shape)  # Output: (2, 2, 2)\n"
      ],
      "metadata": {
        "colab": {
          "base_uri": "https://localhost:8080/"
        },
        "id": "mDwGAmk7SrIN",
        "outputId": "2fc29976-3990-46bb-c1bf-783c86c54c10"
      },
      "execution_count": 2,
      "outputs": [
        {
          "output_type": "stream",
          "name": "stdout",
          "text": [
            "Shape of the tensor: (2, 2, 2)\n"
          ]
        }
      ]
    },
    {
      "cell_type": "code",
      "source": [
        "# Create a tensor\n",
        "tensor = tf.constant([[1, 2, 3], [4, 5, 6]])\n",
        "\n",
        "# Get the size of the tensor\n",
        "size = tf.size(tensor)\n",
        "print(\"Size of the tensor:\", size.numpy())  # Output: 6\n"
      ],
      "metadata": {
        "colab": {
          "base_uri": "https://localhost:8080/"
        },
        "id": "YAvPvW5mS2p8",
        "outputId": "ee6c51ee-5e55-432c-d9bb-1f6eafca62b2"
      },
      "execution_count": 3,
      "outputs": [
        {
          "output_type": "stream",
          "name": "stdout",
          "text": [
            "Size of the tensor: 6\n"
          ]
        }
      ]
    },
    {
      "cell_type": "code",
      "source": [
        "# Create a tensor\n",
        "tensor = tf.constant([[1, 2, 3], [4, 5, 6]])\n",
        "\n",
        "# Get the number of dimensions\n",
        "ndim = tensor.ndim\n",
        "print(\"Number of dimensions (ndim):\", ndim)  # Output: 2\n"
      ],
      "metadata": {
        "colab": {
          "base_uri": "https://localhost:8080/"
        },
        "id": "thmB8T5nS6x6",
        "outputId": "6ee8b094-899e-471c-add2-94825040b1b9"
      },
      "execution_count": 4,
      "outputs": [
        {
          "output_type": "stream",
          "name": "stdout",
          "text": [
            "Number of dimensions (ndim): 2\n"
          ]
        }
      ]
    },
    {
      "cell_type": "code",
      "source": [
        "tensor_3d = tf.constant([\n",
        "    [[1, 2], [3, 4]],\n",
        "    [[5, 6], [7, 8]]\n",
        "])\n",
        "\n",
        "print(\"Number of dimensions (ndim):\", tensor_3d.ndim)  # Output: 3\n"
      ],
      "metadata": {
        "colab": {
          "base_uri": "https://localhost:8080/"
        },
        "id": "N3wBTbUlTAJ3",
        "outputId": "d899bb2a-630f-4270-86bc-70fc5f97b789"
      },
      "execution_count": 5,
      "outputs": [
        {
          "output_type": "stream",
          "name": "stdout",
          "text": [
            "Number of dimensions (ndim): 3\n"
          ]
        }
      ]
    },
    {
      "cell_type": "code",
      "source": [
        "import tensorflow as tf\n",
        "\n",
        "tensor = tf.constant([[1, 2, 3], [4, 5, 6]])\n",
        "print(\"Shape:\", tensor.shape)  # Output: (2, 3)\n"
      ],
      "metadata": {
        "colab": {
          "base_uri": "https://localhost:8080/"
        },
        "id": "mmEHX7-rTEkR",
        "outputId": "caa1aaa8-46e4-4748-afb0-b7d0668af11b"
      },
      "execution_count": 6,
      "outputs": [
        {
          "output_type": "stream",
          "name": "stdout",
          "text": [
            "Shape: (2, 3)\n"
          ]
        }
      ]
    },
    {
      "cell_type": "code",
      "source": [
        "\n",
        "\n",
        "print(\"Number of dimensions (ndim):\", tensor.ndim)  # Output: 2\n"
      ],
      "metadata": {
        "colab": {
          "base_uri": "https://localhost:8080/"
        },
        "id": "mcTIT4AzUaQc",
        "outputId": "1037b081-95ae-4227-dd05-b260cbb54669"
      },
      "execution_count": 7,
      "outputs": [
        {
          "output_type": "stream",
          "name": "stdout",
          "text": [
            "Number of dimensions (ndim): 2\n"
          ]
        }
      ]
    },
    {
      "cell_type": "code",
      "source": [
        "print(\"Data type (dtype):\", tensor.dtype)  # Output: <dtype: 'int32'>\n"
      ],
      "metadata": {
        "colab": {
          "base_uri": "https://localhost:8080/"
        },
        "id": "8YxY3NDzUgkd",
        "outputId": "835824fc-582c-4f6d-892a-2a5d2c48ff43"
      },
      "execution_count": 8,
      "outputs": [
        {
          "output_type": "stream",
          "name": "stdout",
          "text": [
            "Data type (dtype): <dtype: 'int32'>\n"
          ]
        }
      ]
    },
    {
      "cell_type": "code",
      "source": [
        "numpy_array = tensor.numpy()\n",
        "print(\"NumPy array:\\n\", numpy_array)  # Output: [[1 2 3] [4 5 6]]\n"
      ],
      "metadata": {
        "colab": {
          "base_uri": "https://localhost:8080/"
        },
        "id": "6g6uDq3bUifd",
        "outputId": "adc7d319-3900-4f17-ea1b-b6e43b4317fb"
      },
      "execution_count": 9,
      "outputs": [
        {
          "output_type": "stream",
          "name": "stdout",
          "text": [
            "NumPy array:\n",
            " [[1 2 3]\n",
            " [4 5 6]]\n"
          ]
        }
      ]
    },
    {
      "cell_type": "code",
      "source": [
        "tensor_gpu = tf.constant([1, 2, 3])\n",
        "print(\"Device:\", tensor_gpu.device)  # Example Output: \"/job:localhost/replica:0/task:0/device:CPU:0\"\n"
      ],
      "metadata": {
        "colab": {
          "base_uri": "https://localhost:8080/"
        },
        "id": "Ip_4U6jIUkwd",
        "outputId": "11443add-f300-4933-fb48-07b8be8cb2d5"
      },
      "execution_count": 10,
      "outputs": [
        {
          "output_type": "stream",
          "name": "stdout",
          "text": [
            "Device: /job:localhost/replica:0/task:0/device:CPU:0\n"
          ]
        }
      ]
    },
    {
      "cell_type": "code",
      "source": [
        "size = tf.size(tensor).numpy()\n",
        "print(\"Size of the tensor:\", size)  # Output: 6\n"
      ],
      "metadata": {
        "colab": {
          "base_uri": "https://localhost:8080/"
        },
        "id": "qfXaIkwIUnAz",
        "outputId": "01237cdc-50fd-4cc5-c251-2ec9ed86a4f7"
      },
      "execution_count": 11,
      "outputs": [
        {
          "output_type": "stream",
          "name": "stdout",
          "text": [
            "Size of the tensor: 6\n"
          ]
        }
      ]
    },
    {
      "cell_type": "code",
      "source": [
        "size = tf.size(tensor).numpy()\n",
        "print(\"Size of the tensor:\", size)  # Output: 6\n"
      ],
      "metadata": {
        "colab": {
          "base_uri": "https://localhost:8080/"
        },
        "id": "DFtNLxsoUpKD",
        "outputId": "e61d9abf-7999-4b6e-aa10-3abd11cfc397"
      },
      "execution_count": 12,
      "outputs": [
        {
          "output_type": "stream",
          "name": "stdout",
          "text": [
            "Size of the tensor: 6\n"
          ]
        }
      ]
    },
    {
      "cell_type": "code",
      "source": [
        "tensor_float = tf.cast(tensor, dtype=tf.float32)\n",
        "print(\"Converted Tensor (dtype):\", tensor_float.dtype)  # Output: <dtype: 'float32'>\n"
      ],
      "metadata": {
        "colab": {
          "base_uri": "https://localhost:8080/"
        },
        "id": "fj1ndjhTUwjw",
        "outputId": "167bce94-4f46-4bdb-d145-8486d26b6d4a"
      },
      "execution_count": 13,
      "outputs": [
        {
          "output_type": "stream",
          "name": "stdout",
          "text": [
            "Converted Tensor (dtype): <dtype: 'float32'>\n"
          ]
        }
      ]
    },
    {
      "cell_type": "code",
      "source": [
        "# Simulate a batch of 32 RGB images, each of size 128x128\n",
        "image_tensor = tf.random.uniform(shape=(32, 128, 128, 3), dtype=tf.float32)\n",
        "\n",
        "# Get attributes\n",
        "print(\"Shape of image batch:\", image_tensor.shape)       # Output: (32, 128, 128, 3)\n",
        "print(\"Number of dimensions:\", image_tensor.ndim)        # Output: 4\n",
        "print(\"Data type:\", image_tensor.dtype)                  # Output: <dtype: 'float32'>\n",
        "print(\"Total size:\", tf.size(image_tensor).numpy())       # Output: 1572864\n"
      ],
      "metadata": {
        "colab": {
          "base_uri": "https://localhost:8080/"
        },
        "id": "unSuOwI2U6yT",
        "outputId": "8c3df019-7770-4940-8662-7cd4960ddd63"
      },
      "execution_count": 14,
      "outputs": [
        {
          "output_type": "stream",
          "name": "stdout",
          "text": [
            "Shape of image batch: (32, 128, 128, 3)\n",
            "Number of dimensions: 4\n",
            "Data type: <dtype: 'float32'>\n",
            "Total size: 1572864\n"
          ]
        }
      ]
    },
    {
      "cell_type": "code",
      "source": [
        "import tensorflow as tf\n",
        "\n",
        "# Create a 2D tensor\n",
        "tensor = tf.constant([[1, 2, 3], [4, 5, 6]])\n",
        "\n",
        "# Access specific elements\n",
        "element = tensor[0, 1]  # Access the element at row 0, column 1\n",
        "print(\"Element at (0, 1):\", element.numpy())  # Output: 2\n"
      ],
      "metadata": {
        "colab": {
          "base_uri": "https://localhost:8080/"
        },
        "id": "h_cx_479U-8c",
        "outputId": "2d2be5ff-5331-418c-fffd-cac98e029d19"
      },
      "execution_count": 1,
      "outputs": [
        {
          "output_type": "stream",
          "name": "stdout",
          "text": [
            "Element at (0, 1): 2\n"
          ]
        }
      ]
    },
    {
      "cell_type": "code",
      "source": [
        "# Extract a sub-tensor (row 0, all columns)\n",
        "row_0 = tensor[0, :]\n",
        "print(\"Row 0:\", row_0.numpy())  # Output: [1 2 3]\n",
        "\n",
        "# Extract a sub-tensor (all rows, column 1)\n",
        "col_1 = tensor[:, 1]\n",
        "print(\"Column 1:\", col_1.numpy())  # Output: [2 5]\n"
      ],
      "metadata": {
        "colab": {
          "base_uri": "https://localhost:8080/"
        },
        "id": "h3-VfQOHvlB8",
        "outputId": "1bdcd0c7-9f07-4422-d264-c07dcee3b0b6"
      },
      "execution_count": 2,
      "outputs": [
        {
          "output_type": "stream",
          "name": "stdout",
          "text": [
            "Row 0: [1 2 3]\n",
            "Column 1: [2 5]\n"
          ]
        }
      ]
    },
    {
      "cell_type": "code",
      "source": [
        "# Access the last element of the first row\n",
        "last_element = tensor[0, -1]\n",
        "print(\"Last element of first row:\", last_element.numpy())  # Output: 3\n"
      ],
      "metadata": {
        "colab": {
          "base_uri": "https://localhost:8080/"
        },
        "id": "bGeph8xYv4zI",
        "outputId": "b7479141-a561-4c86-d73e-2c58cc1e9a76"
      },
      "execution_count": 3,
      "outputs": [
        {
          "output_type": "stream",
          "name": "stdout",
          "text": [
            "Last element of first row: 3\n"
          ]
        }
      ]
    },
    {
      "cell_type": "code",
      "source": [
        "# Create a 3D tensor\n",
        "tensor_3d = tf.constant([[[1, 2], [3, 4]], [[5, 6], [7, 8]]])\n",
        "\n",
        "# Select all elements in the first block\n",
        "block_0 = tensor_3d[0, ...]\n",
        "print(\"First block:\\n\", block_0.numpy())  # Output: [[1 2] [3 4]]\n"
      ],
      "metadata": {
        "colab": {
          "base_uri": "https://localhost:8080/"
        },
        "id": "QQxegSVbwBd0",
        "outputId": "33ce2447-0927-4d78-8680-4098c8ceae81"
      },
      "execution_count": 4,
      "outputs": [
        {
          "output_type": "stream",
          "name": "stdout",
          "text": [
            "First block:\n",
            " [[1 2]\n",
            " [3 4]]\n"
          ]
        }
      ]
    },
    {
      "cell_type": "code",
      "source": [
        "# Extract every second element from the first row\n",
        "strided_slice = tensor[0, ::2]\n",
        "print(\"Every second element from row 0:\", strided_slice.numpy())  # Output: [1 3]\n"
      ],
      "metadata": {
        "colab": {
          "base_uri": "https://localhost:8080/"
        },
        "id": "jhJ68Y1owG9E",
        "outputId": "a7ddd55e-2440-4fc4-e3be-028170f61515"
      },
      "execution_count": 5,
      "outputs": [
        {
          "output_type": "stream",
          "name": "stdout",
          "text": [
            "Every second element from row 0: [1 3]\n"
          ]
        }
      ]
    },
    {
      "cell_type": "code",
      "source": [
        "# Create a tensor\n",
        "tensor = tf.constant([1, 2, 3, 4, 5])\n",
        "\n",
        "# Apply a condition (e.g., elements > 3)\n",
        "mask = tensor > 3\n",
        "filtered_elements = tf.boolean_mask(tensor, mask)\n",
        "print(\"Filtered elements:\", filtered_elements.numpy())  # Output: [4 5]\n"
      ],
      "metadata": {
        "colab": {
          "base_uri": "https://localhost:8080/"
        },
        "id": "z_WG7JFxwJVr",
        "outputId": "015b259c-bba8-486f-df1d-95203814f5ef"
      },
      "execution_count": 6,
      "outputs": [
        {
          "output_type": "stream",
          "name": "stdout",
          "text": [
            "Filtered elements: [4 5]\n"
          ]
        }
      ]
    },
    {
      "cell_type": "code",
      "source": [
        "# Create a tensor\n",
        "tensor = tf.constant([10, 20, 30, 40, 50])\n",
        "\n",
        "# Gather elements at specific indices\n",
        "selected = tf.gather(tensor, [0, 3, 4])\n",
        "print(\"Gathered elements:\", selected.numpy())  # Output: [10 40 50]\n"
      ],
      "metadata": {
        "colab": {
          "base_uri": "https://localhost:8080/"
        },
        "id": "UufW0eEKwUro",
        "outputId": "e4b8ac28-0840-4876-b74e-03828d49b32a"
      },
      "execution_count": 7,
      "outputs": [
        {
          "output_type": "stream",
          "name": "stdout",
          "text": [
            "Gathered elements: [10 40 50]\n"
          ]
        }
      ]
    },
    {
      "cell_type": "code",
      "source": [
        "# Create a 2D tensor\n",
        "tensor = tf.constant([[1, 2, 3], [4, 5, 6]])\n",
        "\n",
        "# Gather specific elements (e.g., (0, 1) and (1, 2))\n",
        "indices = [[0, 1], [1, 2]]\n",
        "selected = tf.gather_nd(tensor, indices)\n",
        "print(\"Selected elements:\", selected.numpy())  # Output: [2 6]\n"
      ],
      "metadata": {
        "colab": {
          "base_uri": "https://localhost:8080/"
        },
        "id": "OgdSwTeAwZe-",
        "outputId": "c6964a72-8e88-4a1a-861a-adb608a66508"
      },
      "execution_count": 8,
      "outputs": [
        {
          "output_type": "stream",
          "name": "stdout",
          "text": [
            "Selected elements: [2 6]\n"
          ]
        }
      ]
    },
    {
      "cell_type": "code",
      "source": [
        "# Simulate an image tensor of shape (4, 4, 3) (4x4 image, 3 color channels)\n",
        "image = tf.random.uniform(shape=(4, 4, 3), minval=0, maxval=256, dtype=tf.int32)\n",
        "\n",
        "# Extract the pixel at (2, 2)\n",
        "pixel = image[2, 2, :]\n",
        "print(\"Pixel at (2, 2):\", pixel.numpy())\n",
        "\n",
        "# Extract the red channel of the image\n",
        "red_channel = image[:, :, 0]\n",
        "print(\"Red channel:\\n\", red_channel.numpy())\n"
      ],
      "metadata": {
        "colab": {
          "base_uri": "https://localhost:8080/"
        },
        "id": "-5_NTHNDwcFk",
        "outputId": "a16242bf-78ce-4700-dcd6-5ec322828ef9"
      },
      "execution_count": 9,
      "outputs": [
        {
          "output_type": "stream",
          "name": "stdout",
          "text": [
            "Pixel at (2, 2): [252   8 235]\n",
            "Red channel:\n",
            " [[ 22 227  26  67]\n",
            " [ 75 162  44  78]\n",
            " [159  49 252 202]\n",
            " [113 161 249 167]]\n"
          ]
        }
      ]
    },
    {
      "cell_type": "code",
      "source": [
        "import tensorflow as tf\n",
        "\n",
        "# Create a rank-2 tensor (2x3 matrix)\n",
        "tensor_2d = tf.constant([[1, 2, 3], [4, 5, 6]])\n",
        "\n",
        "print(\"Tensor:\\n\", tensor_2d.numpy())\n",
        "print(\"Shape:\", tensor_2d.shape)  # Output: (2, 3)\n",
        "print(\"Rank (ndim):\", tensor_2d.ndim)  # Output: 2\n"
      ],
      "metadata": {
        "colab": {
          "base_uri": "https://localhost:8080/"
        },
        "id": "wviw-aZ8weoV",
        "outputId": "ef689f69-61e7-4e20-d62a-85da879ae729"
      },
      "execution_count": 10,
      "outputs": [
        {
          "output_type": "stream",
          "name": "stdout",
          "text": [
            "Tensor:\n",
            " [[1 2 3]\n",
            " [4 5 6]]\n",
            "Shape: (2, 3)\n",
            "Rank (ndim): 2\n"
          ]
        }
      ]
    },
    {
      "cell_type": "code",
      "source": [
        "tensor_zeros = tf.zeros(shape=(2, 3))  # 2 rows, 3 columns\n",
        "print(\"Tensor filled with zeros:\\n\", tensor_zeros.numpy())\n"
      ],
      "metadata": {
        "colab": {
          "base_uri": "https://localhost:8080/"
        },
        "id": "m4IoQi0m1G4M",
        "outputId": "cc4f2c63-7124-468a-f12d-02388d74f8fc"
      },
      "execution_count": 11,
      "outputs": [
        {
          "output_type": "stream",
          "name": "stdout",
          "text": [
            "Tensor filled with zeros:\n",
            " [[0. 0. 0.]\n",
            " [0. 0. 0.]]\n"
          ]
        }
      ]
    },
    {
      "cell_type": "code",
      "source": [
        "tensor_ones = tf.ones(shape=(2, 3))  # 2 rows, 3 columns\n",
        "print(\"Tensor filled with ones:\\n\", tensor_ones.numpy())\n"
      ],
      "metadata": {
        "colab": {
          "base_uri": "https://localhost:8080/"
        },
        "id": "OPtilQ731Iz2",
        "outputId": "6557a8c9-f8a3-4517-ffcb-ebc1eca0c3c0"
      },
      "execution_count": 12,
      "outputs": [
        {
          "output_type": "stream",
          "name": "stdout",
          "text": [
            "Tensor filled with ones:\n",
            " [[1. 1. 1.]\n",
            " [1. 1. 1.]]\n"
          ]
        }
      ]
    },
    {
      "cell_type": "code",
      "source": [
        "tensor_random = tf.random.uniform(shape=(2, 3), minval=0, maxval=10, dtype=tf.int32)\n",
        "print(\"Tensor with random values:\\n\", tensor_random.numpy())\n"
      ],
      "metadata": {
        "colab": {
          "base_uri": "https://localhost:8080/"
        },
        "id": "_UqIkQQ71Ku9",
        "outputId": "a5095aea-7cee-4725-8e62-3435b24f8557"
      },
      "execution_count": 13,
      "outputs": [
        {
          "output_type": "stream",
          "name": "stdout",
          "text": [
            "Tensor with random values:\n",
            " [[9 1 9]\n",
            " [4 2 4]]\n"
          ]
        }
      ]
    },
    {
      "cell_type": "code",
      "source": [
        "import tensorflow as tf\n",
        "\n",
        "# Create a rank-1 tensor (1D)\n",
        "tensor = tf.constant([1, 2, 3])\n",
        "\n",
        "# Expand along the first axis\n",
        "expanded_0 = tf.expand_dims(tensor, axis=0)  # Adds a new axis at position 0\n",
        "print(\"Expanded (axis=0):\", expanded_0.numpy())  # Output: [[1, 2, 3]]\n",
        "print(\"Shape:\", expanded_0.shape)  # Output: (1, 3)\n",
        "\n",
        "# Expand along the last axis\n",
        "expanded_1 = tf.expand_dims(tensor, axis=-1)  # Adds a new axis at the end\n",
        "print(\"Expanded (axis=-1):\\n\", expanded_1.numpy())  # Output: [[1], [2], [3]]\n",
        "print(\"Shape:\", expanded_1.shape)  # Output: (3, 1)\n"
      ],
      "metadata": {
        "colab": {
          "base_uri": "https://localhost:8080/"
        },
        "id": "3p4dyh2I1MeK",
        "outputId": "e35d7c50-fbee-429d-b22f-686aee299028"
      },
      "execution_count": 14,
      "outputs": [
        {
          "output_type": "stream",
          "name": "stdout",
          "text": [
            "Expanded (axis=0): [[1 2 3]]\n",
            "Shape: (1, 3)\n",
            "Expanded (axis=-1):\n",
            " [[1]\n",
            " [2]\n",
            " [3]]\n",
            "Shape: (3, 1)\n"
          ]
        }
      ]
    },
    {
      "cell_type": "code",
      "source": [
        "# Create a rank-2 tensor (2D)\n",
        "tensor_2d = tf.constant([[1, 2, 3], [4, 5, 6]])\n",
        "\n",
        "# Expand along the first axis\n",
        "expanded_0 = tf.expand_dims(tensor_2d, axis=0)\n",
        "print(\"Expanded (axis=0):\\n\", expanded_0.numpy())  # Shape: (1, 2, 3)\n",
        "\n",
        "# Expand along the last axis\n",
        "expanded_last = tf.expand_dims(tensor_2d, axis=-1)\n",
        "print(\"Expanded (axis=-1):\\n\", expanded_last.numpy())  # Shape: (2, 3, 1)\n"
      ],
      "metadata": {
        "colab": {
          "base_uri": "https://localhost:8080/"
        },
        "id": "sOCLg2B93BFY",
        "outputId": "bc656e95-3253-41fd-9ccd-95b7042e8574"
      },
      "execution_count": 15,
      "outputs": [
        {
          "output_type": "stream",
          "name": "stdout",
          "text": [
            "Expanded (axis=0):\n",
            " [[[1 2 3]\n",
            "  [4 5 6]]]\n",
            "Expanded (axis=-1):\n",
            " [[[1]\n",
            "  [2]\n",
            "  [3]]\n",
            "\n",
            " [[4]\n",
            "  [5]\n",
            "  [6]]]\n"
          ]
        }
      ]
    },
    {
      "cell_type": "code",
      "source": [
        "# Create a scalar tensor\n",
        "scalar = tf.constant(7)\n",
        "\n",
        "# Expand to a rank-1 tensor\n",
        "expanded_1d = tf.expand_dims(scalar, axis=0)\n",
        "print(\"Expanded scalar to rank-1:\", expanded_1d.numpy())  # Output: [7]\n",
        "print(\"Shape:\", expanded_1d.shape)  # Output: (1,)\n",
        "\n",
        "# Expand to a rank-2 tensor\n",
        "expanded_2d = tf.expand_dims(expanded_1d, axis=-1)\n",
        "print(\"Expanded scalar to rank-2:\\n\", expanded_2d.numpy())  # Output: [[7]]\n",
        "print(\"Shape:\", expanded_2d.shape)  # Output: (1, 1)\n"
      ],
      "metadata": {
        "colab": {
          "base_uri": "https://localhost:8080/"
        },
        "id": "P7wSDx083EmX",
        "outputId": "93ca57d6-4769-44e5-878d-5283815924d7"
      },
      "execution_count": 16,
      "outputs": [
        {
          "output_type": "stream",
          "name": "stdout",
          "text": [
            "Expanded scalar to rank-1: [7]\n",
            "Shape: (1,)\n",
            "Expanded scalar to rank-2:\n",
            " [[7]]\n",
            "Shape: (1, 1)\n"
          ]
        }
      ]
    },
    {
      "cell_type": "code",
      "source": [
        "# Simulate a grayscale image tensor of shape (128, 128)\n",
        "image = tf.random.uniform(shape=(128, 128), minval=0, maxval=256, dtype=tf.int32)\n",
        "\n",
        "# Add a channel dimension\n",
        "image_with_channel = tf.expand_dims(image, axis=-1)  # Shape: (128, 128, 1)\n",
        "\n",
        "print(\"Image with channel dimension:\\n\", image_with_channel.shape)  # Output: (128, 128, 1)\n"
      ],
      "metadata": {
        "colab": {
          "base_uri": "https://localhost:8080/"
        },
        "id": "jrPj8ebH3NiA",
        "outputId": "86dcadcb-0986-44fb-92ea-c6d653ba0b4e"
      },
      "execution_count": 17,
      "outputs": [
        {
          "output_type": "stream",
          "name": "stdout",
          "text": [
            "Image with channel dimension:\n",
            " (128, 128, 1)\n"
          ]
        }
      ]
    },
    {
      "cell_type": "code",
      "source": [
        "import tensorflow as tf\n",
        "\n",
        "# Original tensor\n",
        "tensor = tf.constant([[1, 2, 3], [4, 5, 6]])\n",
        "\n",
        "# Reshape to a different shape (3x2)\n",
        "reshaped_tensor = tf.reshape(tensor, (3, 2))\n",
        "print(\"Original shape:\", tensor.shape)         # (2, 3)\n",
        "print(\"Reshaped tensor:\\n\", reshaped_tensor)   # [[1 2] [3 4] [5 6]]\n"
      ],
      "metadata": {
        "colab": {
          "base_uri": "https://localhost:8080/"
        },
        "id": "W1GGRGxR3Rmk",
        "outputId": "a13de9cb-f142-4a97-d53a-730836ce6394"
      },
      "execution_count": 18,
      "outputs": [
        {
          "output_type": "stream",
          "name": "stdout",
          "text": [
            "Original shape: (2, 3)\n",
            "Reshaped tensor:\n",
            " tf.Tensor(\n",
            "[[1 2]\n",
            " [3 4]\n",
            " [5 6]], shape=(3, 2), dtype=int32)\n"
          ]
        }
      ]
    },
    {
      "cell_type": "code",
      "source": [
        "# Original tensor (2x3)\n",
        "tensor = tf.constant([[1, 2, 3], [4, 5, 6]])\n",
        "\n",
        "# Transpose the tensor (swap rows and columns)\n",
        "transposed = tf.transpose(tensor)\n",
        "print(\"Transposed tensor:\\n\", transposed)  # [[1 4] [2 5] [3 6]]\n"
      ],
      "metadata": {
        "colab": {
          "base_uri": "https://localhost:8080/"
        },
        "id": "bmlGoSc-4KB8",
        "outputId": "6e42a6be-180b-4ee1-d9a8-79b3d2754936"
      },
      "execution_count": 19,
      "outputs": [
        {
          "output_type": "stream",
          "name": "stdout",
          "text": [
            "Transposed tensor:\n",
            " tf.Tensor(\n",
            "[[1 4]\n",
            " [2 5]\n",
            " [3 6]], shape=(3, 2), dtype=int32)\n"
          ]
        }
      ]
    },
    {
      "cell_type": "code",
      "source": [
        "# Two tensors to concatenate\n",
        "tensor1 = tf.constant([[1, 2], [3, 4]])\n",
        "tensor2 = tf.constant([[5, 6], [7, 8]])\n",
        "\n",
        "# Concatenate along rows (axis=0)\n",
        "concat_axis_0 = tf.concat([tensor1, tensor2], axis=0)\n",
        "print(\"Concatenated along axis 0:\\n\", concat_axis_0)\n",
        "# Output: [[1 2] [3 4] [5 6] [7 8]]\n",
        "\n",
        "# Concatenate along columns (axis=1)\n",
        "concat_axis_1 = tf.concat([tensor1, tensor2], axis=1)\n",
        "print(\"Concatenated along axis 1:\\n\", concat_axis_1)\n",
        "# Output: [[1 2 5 6] [3 4 7 8]]\n"
      ],
      "metadata": {
        "colab": {
          "base_uri": "https://localhost:8080/"
        },
        "id": "o21rVlJi4Ogb",
        "outputId": "2d5bf4e9-26e5-4e97-f57e-e8a53704a92a"
      },
      "execution_count": 20,
      "outputs": [
        {
          "output_type": "stream",
          "name": "stdout",
          "text": [
            "Concatenated along axis 0:\n",
            " tf.Tensor(\n",
            "[[1 2]\n",
            " [3 4]\n",
            " [5 6]\n",
            " [7 8]], shape=(4, 2), dtype=int32)\n",
            "Concatenated along axis 1:\n",
            " tf.Tensor(\n",
            "[[1 2 5 6]\n",
            " [3 4 7 8]], shape=(2, 4), dtype=int32)\n"
          ]
        }
      ]
    },
    {
      "cell_type": "code",
      "source": [
        "# Tensors to stack\n",
        "tensor1 = tf.constant([1, 2])\n",
        "tensor2 = tf.constant([3, 4])\n",
        "\n",
        "# Stack along a new axis (axis=0)\n",
        "stacked_0 = tf.stack([tensor1, tensor2], axis=0)\n",
        "print(\"Stacked along axis 0:\\n\", stacked_0)  # [[1 2] [3 4]]\n",
        "\n",
        "# Stack along a new axis (axis=1)\n",
        "stacked_1 = tf.stack([tensor1, tensor2], axis=1)\n",
        "print(\"Stacked along axis 1:\\n\", stacked_1)  # [[1 3] [2 4]]\n"
      ],
      "metadata": {
        "colab": {
          "base_uri": "https://localhost:8080/"
        },
        "id": "NycJnUPk_ozC",
        "outputId": "0669398d-b994-4ad2-b4d9-3b52e2fec7bf"
      },
      "execution_count": 21,
      "outputs": [
        {
          "output_type": "stream",
          "name": "stdout",
          "text": [
            "Stacked along axis 0:\n",
            " tf.Tensor(\n",
            "[[1 2]\n",
            " [3 4]], shape=(2, 2), dtype=int32)\n",
            "Stacked along axis 1:\n",
            " tf.Tensor(\n",
            "[[1 3]\n",
            " [2 4]], shape=(2, 2), dtype=int32)\n"
          ]
        }
      ]
    },
    {
      "cell_type": "code",
      "source": [
        "# Tensor to split\n",
        "tensor = tf.constant([1, 2, 3, 4, 5, 6])\n",
        "\n",
        "# Split into 3 parts\n",
        "split_tensors = tf.split(tensor, num_or_size_splits=3)\n",
        "for i, t in enumerate(split_tensors):\n",
        "    print(f\"Split {i}:\\n\", t)  # [1 2], [3 4], [5 6]\n"
      ],
      "metadata": {
        "colab": {
          "base_uri": "https://localhost:8080/"
        },
        "id": "pnwWoJ1n_rDX",
        "outputId": "f8b4320a-1ee3-4710-9b0b-9b878f178283"
      },
      "execution_count": 22,
      "outputs": [
        {
          "output_type": "stream",
          "name": "stdout",
          "text": [
            "Split 0:\n",
            " tf.Tensor([1 2], shape=(2,), dtype=int32)\n",
            "Split 1:\n",
            " tf.Tensor([3 4], shape=(2,), dtype=int32)\n",
            "Split 2:\n",
            " tf.Tensor([5 6], shape=(2,), dtype=int32)\n"
          ]
        }
      ]
    },
    {
      "cell_type": "code",
      "source": [
        "# 1D tensor\n",
        "tensor = tf.constant([1, 2, 3])\n",
        "\n",
        "# Add a new dimension at axis 0\n",
        "expanded = tf.expand_dims(tensor, axis=0)\n",
        "print(\"Expanded tensor:\\n\", expanded)  # [[1 2 3]]\n"
      ],
      "metadata": {
        "colab": {
          "base_uri": "https://localhost:8080/"
        },
        "id": "I-iRo8ny_tPl",
        "outputId": "3897ec98-cdc6-40e6-ac5c-70238ee333ba"
      },
      "execution_count": 23,
      "outputs": [
        {
          "output_type": "stream",
          "name": "stdout",
          "text": [
            "Expanded tensor:\n",
            " tf.Tensor([[1 2 3]], shape=(1, 3), dtype=int32)\n"
          ]
        }
      ]
    },
    {
      "cell_type": "code",
      "source": [
        "# Float tensor\n",
        "tensor = tf.constant([1.1, 2.2, 3.3], dtype=tf.float32)\n",
        "\n",
        "# Convert to integer\n",
        "casted_tensor = tf.cast(tensor, dtype=tf.int32)\n",
        "print(\"Casted tensor:\", casted_tensor)  # [1 2 3]\n"
      ],
      "metadata": {
        "colab": {
          "base_uri": "https://localhost:8080/"
        },
        "id": "SDJW6OvJ_zga",
        "outputId": "f6eeb81b-8710-4fc9-b9cc-750d9a7be1bb"
      },
      "execution_count": 24,
      "outputs": [
        {
          "output_type": "stream",
          "name": "stdout",
          "text": [
            "Casted tensor: tf.Tensor([1 2 3], shape=(3,), dtype=int32)\n"
          ]
        }
      ]
    },
    {
      "cell_type": "code",
      "source": [
        "# Two tensors\n",
        "tensor1 = tf.constant([1, 2, 3])\n",
        "tensor2 = tf.constant([4, 5, 6])\n",
        "\n",
        "# Addition\n",
        "result = tf.add(tensor1, tensor2)\n",
        "print(\"Addition:\", result)  # [5 7 9]\n",
        "\n",
        "# Multiplication\n",
        "result = tf.multiply(tensor1, tensor2)\n",
        "print(\"Multiplication:\", result)  # [4 10 18]\n"
      ],
      "metadata": {
        "colab": {
          "base_uri": "https://localhost:8080/"
        },
        "id": "ZjO3o05f_1wa",
        "outputId": "66b28f9b-3755-445c-8b4d-fac9c15e7a53"
      },
      "execution_count": 25,
      "outputs": [
        {
          "output_type": "stream",
          "name": "stdout",
          "text": [
            "Addition: tf.Tensor([5 7 9], shape=(3,), dtype=int32)\n",
            "Multiplication: tf.Tensor([ 4 10 18], shape=(3,), dtype=int32)\n"
          ]
        }
      ]
    },
    {
      "cell_type": "code",
      "source": [
        "# Tensor and scalar\n",
        "tensor = tf.constant([[1, 2], [3, 4]])\n",
        "\n",
        "# Add scalar to tensor\n",
        "result = tensor + 5\n",
        "print(\"Broadcasted addition:\\n\", result)  # [[6 7] [8 9]]\n"
      ],
      "metadata": {
        "colab": {
          "base_uri": "https://localhost:8080/"
        },
        "id": "IihplSzJABKg",
        "outputId": "eadf3086-3977-4287-8cf0-ff7bd017a977"
      },
      "execution_count": 26,
      "outputs": [
        {
          "output_type": "stream",
          "name": "stdout",
          "text": [
            "Broadcasted addition:\n",
            " tf.Tensor(\n",
            "[[6 7]\n",
            " [8 9]], shape=(2, 2), dtype=int32)\n"
          ]
        }
      ]
    },
    {
      "cell_type": "code",
      "source": [
        "# Grayscale image tensor (2D)\n",
        "image = tf.random.uniform((28, 28), minval=0, maxval=255, dtype=tf.int32)\n",
        "\n",
        "# Normalize the image (convert to float32 and scale between 0 and 1)\n",
        "normalized_image = tf.cast(image, dtype=tf.float32) / 255.0\n",
        "\n",
        "# Add a batch dimension\n",
        "image_with_batch = tf.expand_dims(normalized_image, axis=0)\n",
        "\n",
        "print(\"Original shape:\", image.shape)          # (28, 28)\n",
        "print(\"Normalized and batched shape:\", image_with_batch.shape)  # (1, 28, 28)\n"
      ],
      "metadata": {
        "colab": {
          "base_uri": "https://localhost:8080/"
        },
        "id": "RUbHV9H-ADQN",
        "outputId": "f0907f7e-5484-44e2-8c75-8cdfeebc59fc"
      },
      "execution_count": 27,
      "outputs": [
        {
          "output_type": "stream",
          "name": "stdout",
          "text": [
            "Original shape: (28, 28)\n",
            "Normalized and batched shape: (1, 28, 28)\n"
          ]
        }
      ]
    },
    {
      "cell_type": "markdown",
      "source": [
        "![image.png](data:image/png;base64,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)"
      ],
      "metadata": {
        "id": "hSN7SUdAAXX3"
      }
    },
    {
      "cell_type": "markdown",
      "source": [
        "#Matrix multiplication"
      ],
      "metadata": {
        "id": "xHQcPvTaENdD"
      }
    },
    {
      "cell_type": "code",
      "source": [
        "import tensorflow as tf\n",
        "\n",
        "# Define matrices\n",
        "matrix_a = tf.constant([[1, 2], [3, 4]])  # Shape: (2, 2)\n",
        "matrix_b = tf.constant([[5, 6], [7, 8]])  # Shape: (2, 2)\n",
        "\n",
        "# Perform matrix multiplication\n",
        "result = tf.matmul(matrix_a, matrix_b)\n",
        "\n",
        "print(\"Matrix A:\\n\", matrix_a.numpy())\n",
        "print(\"Matrix B:\\n\", matrix_b.numpy())\n",
        "print(\"Result of Matrix Multiplication:\\n\", result.numpy())\n"
      ],
      "metadata": {
        "colab": {
          "base_uri": "https://localhost:8080/"
        },
        "id": "qgTWRewwAGxl",
        "outputId": "bc9cd5ed-52e3-41eb-b0bf-192de7198b11"
      },
      "execution_count": 1,
      "outputs": [
        {
          "output_type": "stream",
          "name": "stdout",
          "text": [
            "Matrix A:\n",
            " [[1 2]\n",
            " [3 4]]\n",
            "Matrix B:\n",
            " [[5 6]\n",
            " [7 8]]\n",
            "Result of Matrix Multiplication:\n",
            " [[19 22]\n",
            " [43 50]]\n"
          ]
        }
      ]
    },
    {
      "cell_type": "code",
      "source": [
        "result = matrix_a @ matrix_b\n",
        "print(\"Result using @ operator:\\n\", result.numpy())\n"
      ],
      "metadata": {
        "colab": {
          "base_uri": "https://localhost:8080/"
        },
        "id": "84xNl_wHdHPx",
        "outputId": "4d363192-cce3-4a60-8361-35f6726fee7f"
      },
      "execution_count": 2,
      "outputs": [
        {
          "output_type": "stream",
          "name": "stdout",
          "text": [
            "Result using @ operator:\n",
            " [[19 22]\n",
            " [43 50]]\n"
          ]
        }
      ]
    },
    {
      "cell_type": "code",
      "source": [
        "matrix = tf.constant([[1, 2], [3, 4], [5, 6]])  # Shape: (3, 2)\n",
        "vector = tf.constant([7, 8])                   # Shape: (2,)\n",
        "\n",
        "# Broadcast and multiply\n",
        "result = tf.matmul(matrix, tf.reshape(vector, (-1, 1)))\n",
        "\n",
        "print(\"Matrix:\\n\", matrix.numpy())\n",
        "print(\"Vector:\\n\", vector.numpy())\n",
        "print(\"Result of Broadcasting:\\n\", result.numpy())\n"
      ],
      "metadata": {
        "colab": {
          "base_uri": "https://localhost:8080/"
        },
        "id": "QK5wrVF_dKd-",
        "outputId": "4f5b32aa-fc12-4441-d8fd-97183942913e"
      },
      "execution_count": 3,
      "outputs": [
        {
          "output_type": "stream",
          "name": "stdout",
          "text": [
            "Matrix:\n",
            " [[1 2]\n",
            " [3 4]\n",
            " [5 6]]\n",
            "Vector:\n",
            " [7 8]\n",
            "Result of Broadcasting:\n",
            " [[23]\n",
            " [53]\n",
            " [83]]\n"
          ]
        }
      ]
    },
    {
      "cell_type": "code",
      "source": [
        "# Define batch of matrices\n",
        "batch_a = tf.constant([[[1, 2], [3, 4]], [[5, 6], [7, 8]]])  # Shape: (2, 2, 2)\n",
        "batch_b = tf.constant([[[9, 10], [11, 12]], [[13, 14], [15, 16]]])  # Shape: (2, 2, 2)\n",
        "\n",
        "# Perform batch matrix multiplication\n",
        "batch_result = tf.matmul(batch_a, batch_b)\n",
        "\n",
        "print(\"Batch Result:\\n\", batch_result.numpy())\n"
      ],
      "metadata": {
        "colab": {
          "base_uri": "https://localhost:8080/"
        },
        "id": "FHNPXu7edNwN",
        "outputId": "66a5426e-f692-4eda-a36b-240ff7ec118b"
      },
      "execution_count": 4,
      "outputs": [
        {
          "output_type": "stream",
          "name": "stdout",
          "text": [
            "Batch Result:\n",
            " [[[ 31  34]\n",
            "  [ 71  78]]\n",
            "\n",
            " [[155 166]\n",
            "  [211 226]]]\n"
          ]
        }
      ]
    },
    {
      "cell_type": "code",
      "source": [
        "tensor_3d = tf.random.uniform((4, 3, 2))  # Shape: (4, 3, 2)\n",
        "matrix_2d = tf.random.uniform((2, 5))    # Shape: (2, 5)\n",
        "\n",
        "# Multiply\n",
        "result = tf.matmul(tensor_3d, matrix_2d)  # Resulting shape: (4, 3, 5)\n",
        "print(\"Result Shape:\", result.shape)\n"
      ],
      "metadata": {
        "colab": {
          "base_uri": "https://localhost:8080/"
        },
        "id": "VpxSUcjldQAx",
        "outputId": "b018a758-e67e-4458-c733-153fb66e5aa5"
      },
      "execution_count": 5,
      "outputs": [
        {
          "output_type": "stream",
          "name": "stdout",
          "text": [
            "Result Shape: (4, 3, 5)\n"
          ]
        }
      ]
    },
    {
      "cell_type": "code",
      "source": [
        "# Simulate input and weights\n",
        "inputs = tf.constant([[1.0, 2.0], [3.0, 4.0]])  # Input shape: (2, 2)\n",
        "weights = tf.constant([[0.5, 1.5], [2.0, 1.0]]) # Weights shape: (2, 2)\n",
        "\n",
        "# Linear transformation\n",
        "output = tf.matmul(inputs, weights)\n",
        "print(\"Layer output:\\n\", output.numpy())\n"
      ],
      "metadata": {
        "colab": {
          "base_uri": "https://localhost:8080/"
        },
        "id": "hgVNmpajdaaa",
        "outputId": "d7ea6d55-50ff-407a-8b75-0b26bb42a756"
      },
      "execution_count": 6,
      "outputs": [
        {
          "output_type": "stream",
          "name": "stdout",
          "text": [
            "Layer output:\n",
            " [[4.5 3.5]\n",
            " [9.5 8.5]]\n"
          ]
        }
      ]
    },
    {
      "cell_type": "code",
      "source": [
        "import tensorflow as tf\n",
        "\n",
        "# Shape (2, 3)\n",
        "matrix_a = tf.constant([[1, 2, 3], [4, 5, 6]])\n",
        "\n",
        "# Shape (3, 2)\n",
        "matrix_b = tf.constant([[7, 8], [9, 10], [11, 12]])\n",
        "\n",
        "# Matrix multiplication\n",
        "result = tf.matmul(matrix_a, matrix_b)\n",
        "print(\"Result shape:\", result.shape)\n",
        "print(\"Result:\\n\", result.numpy())\n"
      ],
      "metadata": {
        "colab": {
          "base_uri": "https://localhost:8080/"
        },
        "id": "VPq8iKWje1_U",
        "outputId": "9e473fe3-c6f9-4987-961e-86b7535c6602"
      },
      "execution_count": 7,
      "outputs": [
        {
          "output_type": "stream",
          "name": "stdout",
          "text": [
            "Result shape: (2, 2)\n",
            "Result:\n",
            " [[ 58  64]\n",
            " [139 154]]\n"
          ]
        }
      ]
    },
    {
      "cell_type": "code",
      "source": [
        "# Shape (2, 2) and (2, 2) are incompatible for multiplication.\n",
        "matrix_a = tf.constant([[1, 2], [3, 4]])\n",
        "matrix_b = tf.constant([[5, 6], [7, 8]])\n",
        "\n",
        "try:\n",
        "    result = tf.matmul(matrix_a, matrix_b)  # Error expected\n",
        "except Exception as e:\n",
        "    print(\"Error:\", e)\n"
      ],
      "metadata": {
        "id": "G5TtrxW3jHxS"
      },
      "execution_count": 8,
      "outputs": []
    },
    {
      "cell_type": "code",
      "source": [
        "# Batch of matrices (2 matrices of shape (2, 3))\n",
        "batch_a = tf.constant([[[1, 2, 3], [4, 5, 6]], [[7, 8, 9], [10, 11, 12]]])  # Shape (2, 2, 3)\n",
        "\n",
        "# Single matrix (broadcasted for multiplication)\n",
        "matrix_b = tf.constant([[1, 2], [3, 4], [5, 6]])  # Shape (3, 2)\n",
        "\n",
        "# Resulting shape: (2, 2, 2)\n",
        "result = tf.matmul(batch_a, matrix_b)\n",
        "print(\"Result shape:\", result.shape)\n",
        "print(\"Result:\\n\", result.numpy())\n"
      ],
      "metadata": {
        "colab": {
          "base_uri": "https://localhost:8080/"
        },
        "id": "VJKWe6oGjKB8",
        "outputId": "19a2f94a-7fcd-4401-8cef-de1fdbfdd565"
      },
      "execution_count": 9,
      "outputs": [
        {
          "output_type": "stream",
          "name": "stdout",
          "text": [
            "Result shape: (2, 2, 2)\n",
            "Result:\n",
            " [[[ 22  28]\n",
            "  [ 49  64]]\n",
            "\n",
            " [[ 76 100]\n",
            "  [103 136]]]\n"
          ]
        }
      ]
    },
    {
      "cell_type": "code",
      "source": [
        "# Batch of matrices (2 matrices of shape (2, 3))\n",
        "batch_a = tf.constant([[[1, 2, 3], [4, 5, 6]], [[7, 8, 9], [10, 11, 12]]])  # Shape (2, 2, 3)\n",
        "\n",
        "# Single matrix (broadcasted for multiplication)\n",
        "matrix_b = tf.constant([[1, 2], [3, 4], [5, 6]])  # Shape (3, 2)\n",
        "\n",
        "# Resulting shape: (2, 2, 2)\n",
        "result = tf.matmul(batch_a, matrix_b)\n",
        "print(\"Result shape:\", result.shape)\n",
        "print(\"Result:\\n\", result.numpy())\n"
      ],
      "metadata": {
        "colab": {
          "base_uri": "https://localhost:8080/"
        },
        "id": "zHu4ICoYjN-M",
        "outputId": "ea560766-b233-4e1c-f4ad-099f723048e1"
      },
      "execution_count": 10,
      "outputs": [
        {
          "output_type": "stream",
          "name": "stdout",
          "text": [
            "Result shape: (2, 2, 2)\n",
            "Result:\n",
            " [[[ 22  28]\n",
            "  [ 49  64]]\n",
            "\n",
            " [[ 76 100]\n",
            "  [103 136]]]\n"
          ]
        }
      ]
    },
    {
      "cell_type": "code",
      "source": [
        "# Shape (4,)\n",
        "vector = tf.constant([1, 2, 3, 4])  # 1D tensor\n",
        "\n",
        "# Reshape vector to (1, 4) to make it compatible\n",
        "reshaped_vector = tf.reshape(vector, (1, 4))  # Shape: (1, 4)\n",
        "\n",
        "# Shape (4, 3)\n",
        "matrix = tf.constant([[5, 6, 7], [8, 9, 10], [11, 12, 13], [14, 15, 16]])\n",
        "\n",
        "# Multiply reshaped vector with matrix\n",
        "result = tf.matmul(reshaped_vector, matrix)\n",
        "print(\"Result shape:\", result.shape)\n",
        "print(\"Result:\\n\", result.numpy())\n"
      ],
      "metadata": {
        "colab": {
          "base_uri": "https://localhost:8080/"
        },
        "id": "dT4KhFkNjTTv",
        "outputId": "b4f765cc-dad0-4186-b1c5-430a4db399e1"
      },
      "execution_count": 11,
      "outputs": [
        {
          "output_type": "stream",
          "name": "stdout",
          "text": [
            "Result shape: (1, 3)\n",
            "Result:\n",
            " [[110 120 130]]\n"
          ]
        }
      ]
    },
    {
      "cell_type": "markdown",
      "source": [
        "![image.png](data:image/png;base64,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)"
      ],
      "metadata": {
        "id": "OFrmlRE2kjKD"
      }
    },
    {
      "cell_type": "markdown",
      "source": [
        "Inner dimension of the matrix should match for vector multiplication"
      ],
      "metadata": {
        "id": "kzn8HRqhm2Cj"
      }
    },
    {
      "cell_type": "code",
      "source": [
        "import tensorflow as tf\n",
        "\n",
        "# Shape (2, 3)\n",
        "matrix_a = tf.constant([[1, 2, 3], [4, 5, 6]])\n",
        "\n",
        "# Shape (3, 4)\n",
        "matrix_b = tf.constant([[7, 8, 9, 10], [11, 12, 13, 14], [15, 16, 17, 18]])\n",
        "\n",
        "# Multiply (inner dimensions match)\n",
        "result = tf.matmul(matrix_a, matrix_b)\n",
        "print(\"Result:\\n\", result.numpy())\n"
      ],
      "metadata": {
        "colab": {
          "base_uri": "https://localhost:8080/"
        },
        "id": "VlHsIMmEjYeJ",
        "outputId": "ad41e9d8-3d58-4667-881d-cae3fe142a94"
      },
      "execution_count": 12,
      "outputs": [
        {
          "output_type": "stream",
          "name": "stdout",
          "text": [
            "Result:\n",
            " [[ 74  80  86  92]\n",
            " [173 188 203 218]]\n"
          ]
        }
      ]
    },
    {
      "cell_type": "code",
      "source": [
        "import tensorflow as tf\n",
        "\n",
        "# Define a matrix\n",
        "matrix = tf.constant([[1, 2, 3], [4, 5, 6]])\n",
        "print(\"Original Matrix:\\n\", matrix.numpy())\n",
        "\n",
        "# Transpose the matrix\n",
        "transposed_matrix = tf.transpose(matrix)\n",
        "print(\"Transposed Matrix:\\n\", transposed_matrix.numpy())\n"
      ],
      "metadata": {
        "colab": {
          "base_uri": "https://localhost:8080/"
        },
        "id": "3mbEBkJsm9hy",
        "outputId": "25300c36-2e39-4efe-beeb-072ed3083d96"
      },
      "execution_count": 13,
      "outputs": [
        {
          "output_type": "stream",
          "name": "stdout",
          "text": [
            "Original Matrix:\n",
            " [[1 2 3]\n",
            " [4 5 6]]\n",
            "Transposed Matrix:\n",
            " [[1 4]\n",
            " [2 5]\n",
            " [3 6]]\n"
          ]
        }
      ]
    },
    {
      "cell_type": "code",
      "source": [
        "# Inputs (shape: batch_size x features)\n",
        "inputs = tf.constant([[1, 2], [3, 4]])  # Shape (2, 2)\n",
        "\n",
        "# Weights (features x neurons)\n",
        "weights = tf.constant([[1, 0], [0, 1]])  # Shape (2, 2)\n",
        "\n",
        "# Transpose weights if needed\n",
        "transposed_weights = tf.transpose(weights)  # Shape (2, 2)\n",
        "\n",
        "# Multiply inputs with transposed weights\n",
        "output = tf.matmul(inputs, transposed_weights)\n",
        "print(\"Output:\\n\", output.numpy())\n"
      ],
      "metadata": {
        "colab": {
          "base_uri": "https://localhost:8080/"
        },
        "id": "DZ-vDRhgqZsg",
        "outputId": "aa280344-422c-4b49-9e27-54c4954d9fdc"
      },
      "execution_count": 14,
      "outputs": [
        {
          "output_type": "stream",
          "name": "stdout",
          "text": [
            "Output:\n",
            " [[1 2]\n",
            " [3 4]]\n"
          ]
        }
      ]
    },
    {
      "cell_type": "code",
      "source": [
        "# 3D Tensor\n",
        "tensor = tf.constant([\n",
        "    [[1, 2, 3], [4, 5, 6]],\n",
        "    [[7, 8, 9], [10, 11, 12]]\n",
        "])  # Shape (2, 2, 3)\n",
        "\n",
        "# Transpose axes (swap the last two dimensions)\n",
        "transposed_tensor = tf.transpose(tensor, perm=[0, 2, 1])  # Shape (2, 3, 2)\n",
        "\n",
        "print(\"Original Tensor:\\n\", tensor.numpy())\n",
        "print(\"Transposed Tensor:\\n\", transposed_tensor.numpy())\n"
      ],
      "metadata": {
        "colab": {
          "base_uri": "https://localhost:8080/"
        },
        "id": "8SvYKPSWx27l",
        "outputId": "da36e6fc-cbc4-4649-b253-591798cfd1d8"
      },
      "execution_count": 15,
      "outputs": [
        {
          "output_type": "stream",
          "name": "stdout",
          "text": [
            "Original Tensor:\n",
            " [[[ 1  2  3]\n",
            "  [ 4  5  6]]\n",
            "\n",
            " [[ 7  8  9]\n",
            "  [10 11 12]]]\n",
            "Transposed Tensor:\n",
            " [[[ 1  4]\n",
            "  [ 2  5]\n",
            "  [ 3  6]]\n",
            "\n",
            " [[ 7 10]\n",
            "  [ 8 11]\n",
            "  [ 9 12]]]\n"
          ]
        }
      ]
    },
    {
      "cell_type": "code",
      "source": [
        "import tensorflow as tf\n",
        "\n",
        "# Define a matrix\n",
        "matrix = tf.constant([[1, 2, 3], [4, 5, 6]])\n",
        "print(\"Original Matrix:\\n\", matrix.numpy())\n",
        "\n",
        "# Transpose the matrix\n",
        "transposed_matrix = tf.transpose(matrix)\n",
        "print(\"Transposed Matrix:\\n\", transposed_matrix.numpy())\n"
      ],
      "metadata": {
        "colab": {
          "base_uri": "https://localhost:8080/"
        },
        "id": "VMRl7pELx5xg",
        "outputId": "47cc388f-f4c2-4841-babf-0902dea3d8e0"
      },
      "execution_count": 16,
      "outputs": [
        {
          "output_type": "stream",
          "name": "stdout",
          "text": [
            "Original Matrix:\n",
            " [[1 2 3]\n",
            " [4 5 6]]\n",
            "Transposed Matrix:\n",
            " [[1 4]\n",
            " [2 5]\n",
            " [3 6]]\n"
          ]
        }
      ]
    },
    {
      "cell_type": "code",
      "source": [
        "import tensorflow as tf\n",
        "\n",
        "# Shape (2, 3)\n",
        "matrix_a = tf.constant([[1, 2, 3], [4, 5, 6]])\n",
        "\n",
        "# Shape (3, 4)\n",
        "matrix_b = tf.constant([[7, 8, 9, 10], [11, 12, 13, 14], [15, 16, 17, 18]])\n",
        "\n",
        "# Multiply (inner dimensions match)\n",
        "result = tf.matmul(matrix_a, matrix_b)\n",
        "print(\"Result:\\n\", result.numpy())\n"
      ],
      "metadata": {
        "colab": {
          "base_uri": "https://localhost:8080/"
        },
        "id": "WZRXhUdQx_6d",
        "outputId": "edea2efa-6ad7-449b-bd1f-2217fcc8cbf3"
      },
      "execution_count": 17,
      "outputs": [
        {
          "output_type": "stream",
          "name": "stdout",
          "text": [
            "Result:\n",
            " [[ 74  80  86  92]\n",
            " [173 188 203 218]]\n"
          ]
        }
      ]
    },
    {
      "cell_type": "code",
      "source": [
        "import tensorflow as tf\n",
        "\n",
        "# Create a tensor with default data type\n",
        "default_tensor = tf.constant([1, 2, 3, 4])\n",
        "\n",
        "print(\"Tensor:\", default_tensor)\n",
        "print(\"Data Type:\", default_tensor.dtype)\n"
      ],
      "metadata": {
        "colab": {
          "base_uri": "https://localhost:8080/"
        },
        "id": "rPYqBk3xyCPE",
        "outputId": "4dab8dd9-cdbf-4584-b061-1722a904ea3c"
      },
      "execution_count": 1,
      "outputs": [
        {
          "output_type": "stream",
          "name": "stdout",
          "text": [
            "Tensor: tf.Tensor([1 2 3 4], shape=(4,), dtype=int32)\n",
            "Data Type: <dtype: 'int32'>\n"
          ]
        }
      ]
    },
    {
      "cell_type": "code",
      "source": [
        "# Create a tensor of zeros with default data type\n",
        "zeros_tensor = tf.zeros([2, 3])  # Shape (2, 3)\n",
        "\n",
        "print(\"Tensor:\\n\", zeros_tensor)\n",
        "print(\"Data Type:\", zeros_tensor.dtype)\n"
      ],
      "metadata": {
        "colab": {
          "base_uri": "https://localhost:8080/"
        },
        "id": "naN_bw5p0_jB",
        "outputId": "c2d662d0-131a-4eb0-c438-5faa0124ad23"
      },
      "execution_count": 2,
      "outputs": [
        {
          "output_type": "stream",
          "name": "stdout",
          "text": [
            "Tensor:\n",
            " tf.Tensor(\n",
            "[[0. 0. 0.]\n",
            " [0. 0. 0.]], shape=(2, 3), dtype=float32)\n",
            "Data Type: <dtype: 'float32'>\n"
          ]
        }
      ]
    },
    {
      "cell_type": "code",
      "source": [
        "# Create a tensor of ones with default data type\n",
        "ones_tensor = tf.ones([3, 2])  # Shape (3, 2)\n",
        "\n",
        "print(\"Tensor:\\n\", ones_tensor)\n",
        "print(\"Data Type:\", ones_tensor.dtype)\n"
      ],
      "metadata": {
        "colab": {
          "base_uri": "https://localhost:8080/"
        },
        "id": "kPIDvM3l1K2E",
        "outputId": "f54c5a7b-0040-47aa-c262-447cef2e21fb"
      },
      "execution_count": 3,
      "outputs": [
        {
          "output_type": "stream",
          "name": "stdout",
          "text": [
            "Tensor:\n",
            " tf.Tensor(\n",
            "[[1. 1.]\n",
            " [1. 1.]\n",
            " [1. 1.]], shape=(3, 2), dtype=float32)\n",
            "Data Type: <dtype: 'float32'>\n"
          ]
        }
      ]
    },
    {
      "cell_type": "code",
      "source": [
        "# Create a tensor with random values\n",
        "random_tensor = tf.random.uniform(shape=[2, 2])  # Shape (2, 2)\n",
        "\n",
        "print(\"Tensor:\\n\", random_tensor)\n",
        "print(\"Data Type:\", random_tensor.dtype)\n"
      ],
      "metadata": {
        "colab": {
          "base_uri": "https://localhost:8080/"
        },
        "id": "OSkh5ewT1R9T",
        "outputId": "6c45975d-3f3d-42bd-b478-46c472d59a7e"
      },
      "execution_count": 4,
      "outputs": [
        {
          "output_type": "stream",
          "name": "stdout",
          "text": [
            "Tensor:\n",
            " tf.Tensor(\n",
            "[[0.05316412 0.47168803]\n",
            " [0.02948093 0.441149  ]], shape=(2, 2), dtype=float32)\n",
            "Data Type: <dtype: 'float32'>\n"
          ]
        }
      ]
    },
    {
      "cell_type": "code",
      "source": [
        "import tensorflow as tf\n",
        "\n",
        "# Integer tensor\n",
        "int_tensor = tf.constant([1, 2, 3], dtype=tf.int32)\n",
        "\n",
        "# Cast to float\n",
        "float_tensor = tf.cast(int_tensor, tf.float32)\n",
        "\n",
        "print(\"Integer Tensor:\", int_tensor.numpy())\n",
        "print(\"Float Tensor:\", float_tensor.numpy())\n"
      ],
      "metadata": {
        "colab": {
          "base_uri": "https://localhost:8080/"
        },
        "id": "-UtMDEv61iiO",
        "outputId": "053c36a9-8f78-464b-fa1d-1c069c108b39"
      },
      "execution_count": 1,
      "outputs": [
        {
          "output_type": "stream",
          "name": "stdout",
          "text": [
            "Integer Tensor: [1 2 3]\n",
            "Float Tensor: [1. 2. 3.]\n"
          ]
        }
      ]
    },
    {
      "cell_type": "code",
      "source": [
        "# Float tensor\n",
        "float_tensor = tf.constant([1.7, 2.9, 3.4], dtype=tf.float32)\n",
        "\n",
        "# Cast to integer (truncates decimal part)\n",
        "int_tensor = tf.cast(float_tensor, tf.int32)\n",
        "\n",
        "print(\"Float Tensor:\", float_tensor.numpy())\n",
        "print(\"Integer Tensor:\", int_tensor.numpy())\n"
      ],
      "metadata": {
        "colab": {
          "base_uri": "https://localhost:8080/"
        },
        "id": "mWFbws79lAE6",
        "outputId": "43daf912-b077-4caa-c497-713db2d2b0e9"
      },
      "execution_count": 2,
      "outputs": [
        {
          "output_type": "stream",
          "name": "stdout",
          "text": [
            "Float Tensor: [1.7 2.9 3.4]\n",
            "Integer Tensor: [1 2 3]\n"
          ]
        }
      ]
    },
    {
      "cell_type": "code",
      "source": [
        "# Numeric tensor\n",
        "numeric_tensor = tf.constant([0, 1, -1, 2], dtype=tf.int32)\n",
        "\n",
        "# Cast to boolean (0 -> False, non-zero -> True)\n",
        "bool_tensor = tf.cast(numeric_tensor, tf.bool)\n",
        "\n",
        "print(\"Numeric Tensor:\", numeric_tensor.numpy())\n",
        "print(\"Boolean Tensor:\", bool_tensor.numpy())\n"
      ],
      "metadata": {
        "colab": {
          "base_uri": "https://localhost:8080/"
        },
        "id": "Pxp99oI_lCXX",
        "outputId": "76f0a6b6-d186-48dd-e91d-1766c34b6c3c"
      },
      "execution_count": 3,
      "outputs": [
        {
          "output_type": "stream",
          "name": "stdout",
          "text": [
            "Numeric Tensor: [ 0  1 -1  2]\n",
            "Boolean Tensor: [False  True  True  True]\n"
          ]
        }
      ]
    },
    {
      "cell_type": "code",
      "source": [
        "# Boolean tensor\n",
        "bool_tensor = tf.constant([True, False, True], dtype=tf.bool)\n",
        "\n",
        "# Cast to float (True -> 1.0, False -> 0.0)\n",
        "float_tensor = tf.cast(bool_tensor, tf.float32)\n",
        "\n",
        "print(\"Boolean Tensor:\", bool_tensor.numpy())\n",
        "print(\"Float Tensor:\", float_tensor.numpy())\n"
      ],
      "metadata": {
        "colab": {
          "base_uri": "https://localhost:8080/"
        },
        "id": "s6JEX_u2lFGL",
        "outputId": "e6280b99-668f-45ea-992b-4e972e6a1676"
      },
      "execution_count": 4,
      "outputs": [
        {
          "output_type": "stream",
          "name": "stdout",
          "text": [
            "Boolean Tensor: [ True False  True]\n",
            "Float Tensor: [1. 0. 1.]\n"
          ]
        }
      ]
    },
    {
      "cell_type": "code",
      "source": [
        "# Default tensor\n",
        "default_tensor = tf.constant([1, 2, 3])\n",
        "\n",
        "# Explicitly cast to int32\n",
        "int_tensor = tf.cast(default_tensor, tf.int32)\n",
        "\n",
        "print(\"Default Tensor:\", default_tensor.numpy())\n",
        "print(\"Cast to Int Tensor:\", int_tensor.numpy())\n"
      ],
      "metadata": {
        "colab": {
          "base_uri": "https://localhost:8080/"
        },
        "id": "do80XvJtlHXG",
        "outputId": "fc0f655d-a8e7-451b-a541-34341456babb"
      },
      "execution_count": 5,
      "outputs": [
        {
          "output_type": "stream",
          "name": "stdout",
          "text": [
            "Default Tensor: [1 2 3]\n",
            "Cast to Int Tensor: [1 2 3]\n"
          ]
        }
      ]
    },
    {
      "cell_type": "code",
      "source": [
        "image = tf.constant([[0, 128, 255]], dtype=tf.uint8)\n",
        "normalized_image = tf.cast(image, tf.float32) / 255.0\n",
        "print(normalized_image.numpy())\n"
      ],
      "metadata": {
        "colab": {
          "base_uri": "https://localhost:8080/"
        },
        "id": "UG6Mpo8RlKW7",
        "outputId": "4c732842-5cf4-4329-a854-67fa6d1b3ddd"
      },
      "execution_count": 6,
      "outputs": [
        {
          "output_type": "stream",
          "name": "stdout",
          "text": [
            "[[0.        0.5019608 1.       ]]\n"
          ]
        }
      ]
    },
    {
      "cell_type": "markdown",
      "source": [
        "#aggregation of tensors"
      ],
      "metadata": {
        "id": "8uzM_Ijalwga"
      }
    },
    {
      "cell_type": "code",
      "source": [
        "import tensorflow as tf\n",
        "\n",
        "# Create a tensor\n",
        "tensor = tf.constant([[1, 2, 3], [4, 5, 6]], dtype=tf.float32)\n",
        "print(\"Tensor:\\n\", tensor.numpy())\n"
      ],
      "metadata": {
        "colab": {
          "base_uri": "https://localhost:8080/"
        },
        "id": "9FQe0tdilQmF",
        "outputId": "4a1538d9-c1b4-4e48-bfae-5e66547a1278"
      },
      "execution_count": 7,
      "outputs": [
        {
          "output_type": "stream",
          "name": "stdout",
          "text": [
            "Tensor:\n",
            " [[1. 2. 3.]\n",
            " [4. 5. 6.]]\n"
          ]
        }
      ]
    },
    {
      "cell_type": "code",
      "source": [
        "# Sum all elements\n",
        "total_sum = tf.reduce_sum(tensor)\n",
        "print(\"Sum of all elements:\", total_sum.numpy())\n"
      ],
      "metadata": {
        "colab": {
          "base_uri": "https://localhost:8080/"
        },
        "id": "gQS_DUCKm3__",
        "outputId": "1b4b5781-2947-452c-db51-8cff8d82fa13"
      },
      "execution_count": 8,
      "outputs": [
        {
          "output_type": "stream",
          "name": "stdout",
          "text": [
            "Sum of all elements: 21.0\n"
          ]
        }
      ]
    },
    {
      "cell_type": "code",
      "source": [
        "# Mean of all elements\n",
        "mean_value = tf.reduce_mean(tensor)\n",
        "print(\"Mean of all elements:\", mean_value.numpy())\n"
      ],
      "metadata": {
        "colab": {
          "base_uri": "https://localhost:8080/"
        },
        "id": "QnmVESkZm6Zi",
        "outputId": "95b01141-9e89-4b1d-ad87-29755f5388be"
      },
      "execution_count": 9,
      "outputs": [
        {
          "output_type": "stream",
          "name": "stdout",
          "text": [
            "Mean of all elements: 3.5\n"
          ]
        }
      ]
    },
    {
      "cell_type": "code",
      "source": [
        "# Maximum value\n",
        "max_value = tf.reduce_max(tensor)\n",
        "\n",
        "# Minimum value\n",
        "min_value = tf.reduce_min(tensor)\n",
        "\n",
        "print(\"Maximum value:\", max_value.numpy())\n",
        "print(\"Minimum value:\", min_value.numpy())\n"
      ],
      "metadata": {
        "colab": {
          "base_uri": "https://localhost:8080/"
        },
        "id": "XmAyjpQgm9a0",
        "outputId": "b5027f67-c207-4de6-873c-9fd90d098769"
      },
      "execution_count": 10,
      "outputs": [
        {
          "output_type": "stream",
          "name": "stdout",
          "text": [
            "Maximum value: 6.0\n",
            "Minimum value: 1.0\n"
          ]
        }
      ]
    },
    {
      "cell_type": "code",
      "source": [
        "# Sum along rows (axis=1)\n",
        "row_sum = tf.reduce_sum(tensor, axis=1)\n",
        "\n",
        "# Sum along columns (axis=0)\n",
        "col_sum = tf.reduce_sum(tensor, axis=0)\n",
        "\n",
        "print(\"Sum along rows:\", row_sum.numpy())\n",
        "print(\"Sum along columns:\", col_sum.numpy())\n"
      ],
      "metadata": {
        "colab": {
          "base_uri": "https://localhost:8080/"
        },
        "id": "SJU_Xvgzm_gM",
        "outputId": "202816bd-01f8-4bc3-a89e-fbc7a28d106a"
      },
      "execution_count": 11,
      "outputs": [
        {
          "output_type": "stream",
          "name": "stdout",
          "text": [
            "Sum along rows: [ 6. 15.]\n",
            "Sum along columns: [5. 7. 9.]\n"
          ]
        }
      ]
    },
    {
      "cell_type": "code",
      "source": [
        "# Variance\n",
        "variance = tf.math.reduce_variance(tensor)\n",
        "\n",
        "# Standard deviation\n",
        "std_dev = tf.math.reduce_std(tensor)\n",
        "\n",
        "print(\"Variance:\", variance.numpy())\n",
        "print(\"Standard Deviation:\", std_dev.numpy())\n"
      ],
      "metadata": {
        "colab": {
          "base_uri": "https://localhost:8080/"
        },
        "id": "zFaxKYLPnDOY",
        "outputId": "6d3c499d-2104-4e30-9343-35bd324d56a6"
      },
      "execution_count": 12,
      "outputs": [
        {
          "output_type": "stream",
          "name": "stdout",
          "text": [
            "Variance: 2.9166667\n",
            "Standard Deviation: 1.7078252\n"
          ]
        }
      ]
    },
    {
      "cell_type": "code",
      "source": [
        "# Product of all elements\n",
        "product = tf.reduce_prod(tensor)\n",
        "print(\"Product of all elements:\", product.numpy())\n"
      ],
      "metadata": {
        "colab": {
          "base_uri": "https://localhost:8080/"
        },
        "id": "xPf47Kvnn-Ef",
        "outputId": "2f5035c6-6871-47ae-8427-ee0f0328a8c6"
      },
      "execution_count": 13,
      "outputs": [
        {
          "output_type": "stream",
          "name": "stdout",
          "text": [
            "Product of all elements: 720.0\n"
          ]
        }
      ]
    },
    {
      "cell_type": "code",
      "source": [
        "# Sum along columns with keepdims=True\n",
        "col_sum_keepdims = tf.reduce_sum(tensor, axis=0, keepdims=True)\n",
        "\n",
        "print(\"Column sum with keepdims:\\n\", col_sum_keepdims.numpy())\n"
      ],
      "metadata": {
        "colab": {
          "base_uri": "https://localhost:8080/"
        },
        "id": "RbCx8g48oBC5",
        "outputId": "509b109a-dc65-4b5b-d555-c01190c20a72"
      },
      "execution_count": 14,
      "outputs": [
        {
          "output_type": "stream",
          "name": "stdout",
          "text": [
            "Column sum with keepdims:\n",
            " [[5. 7. 9.]]\n"
          ]
        }
      ]
    },
    {
      "cell_type": "markdown",
      "source": [
        "In TensorFlow, finding the positional maximum or minimum in a tensor means identifying the index/position of the maximum or minimum value in the tensor along a specific axis. For this, we use:\n",
        "\n",
        "tf.argmax: Returns the index of the maximum value along a specific axis.\n",
        "tf.argmin: Returns the index of the minimum value along a specific axis."
      ],
      "metadata": {
        "id": "kxBxlkXUsntM"
      }
    },
    {
      "cell_type": "code",
      "source": [
        "import tensorflow as tf\n",
        "\n",
        "# 1D Tensor\n",
        "tensor_1d = tf.constant([5, 8, 3, 9, 2])\n",
        "\n",
        "# Position of maximum value\n",
        "max_index = tf.argmax(tensor_1d)\n",
        "\n",
        "# Position of minimum value\n",
        "min_index = tf.argmin(tensor_1d)\n",
        "\n",
        "print(\"Tensor:\", tensor_1d.numpy())\n",
        "print(\"Index of maximum value:\", max_index.numpy())\n",
        "print(\"Index of minimum value:\", min_index.numpy())\n"
      ],
      "metadata": {
        "colab": {
          "base_uri": "https://localhost:8080/"
        },
        "id": "WJ-3dYNioE0h",
        "outputId": "16f62eb3-275e-49a8-c81a-fbe8ad3d5768"
      },
      "execution_count": 15,
      "outputs": [
        {
          "output_type": "stream",
          "name": "stdout",
          "text": [
            "Tensor: [5 8 3 9 2]\n",
            "Index of maximum value: 3\n",
            "Index of minimum value: 4\n"
          ]
        }
      ]
    },
    {
      "cell_type": "code",
      "source": [
        "# 2D Tensor\n",
        "tensor_2d = tf.constant([[1, 3, 2],\n",
        "                         [4, 6, 5],\n",
        "                         [7, 8, 9]])\n",
        "\n",
        "# Position of maximum values along axis 0 (columns)\n",
        "max_indices_axis0 = tf.argmax(tensor_2d, axis=0)\n",
        "\n",
        "# Position of minimum values along axis 1 (rows)\n",
        "min_indices_axis1 = tf.argmin(tensor_2d, axis=1)\n",
        "\n",
        "print(\"Tensor:\\n\", tensor_2d.numpy())\n",
        "print(\"Indices of maximum values along axis 0:\", max_indices_axis0.numpy())\n",
        "print(\"Indices of minimum values along axis 1:\", min_indices_axis1.numpy())\n"
      ],
      "metadata": {
        "colab": {
          "base_uri": "https://localhost:8080/"
        },
        "id": "_YpE7T-7suUI",
        "outputId": "710fa307-1aab-4567-9194-3ce038baad18"
      },
      "execution_count": 16,
      "outputs": [
        {
          "output_type": "stream",
          "name": "stdout",
          "text": [
            "Tensor:\n",
            " [[1 3 2]\n",
            " [4 6 5]\n",
            " [7 8 9]]\n",
            "Indices of maximum values along axis 0: [2 2 2]\n",
            "Indices of minimum values along axis 1: [0 0 0]\n"
          ]
        }
      ]
    },
    {
      "cell_type": "code",
      "source": [
        "# Simulating a grayscale image as a tensor\n",
        "image_tensor = tf.constant([[34, 12, 45],\n",
        "                            [67, 89, 23],\n",
        "                            [78, 56, 90]])\n",
        "\n",
        "# Brightest pixel position\n",
        "brightest_pixel_index = tf.argmax(tf.reshape(image_tensor, [-1]))\n",
        "\n",
        "# Darkest pixel position\n",
        "darkest_pixel_index = tf.argmin(tf.reshape(image_tensor, [-1]))\n",
        "\n",
        "print(\"Image Tensor:\\n\", image_tensor.numpy())\n",
        "print(\"Position of brightest pixel (flattened):\", brightest_pixel_index.numpy())\n",
        "print(\"Position of darkest pixel (flattened):\", darkest_pixel_index.numpy())\n"
      ],
      "metadata": {
        "colab": {
          "base_uri": "https://localhost:8080/"
        },
        "id": "LPmF9e2PtLV7",
        "outputId": "bf1cde60-20b6-4ac0-9a26-d645d592be90"
      },
      "execution_count": 17,
      "outputs": [
        {
          "output_type": "stream",
          "name": "stdout",
          "text": [
            "Image Tensor:\n",
            " [[34 12 45]\n",
            " [67 89 23]\n",
            " [78 56 90]]\n",
            "Position of brightest pixel (flattened): 8\n",
            "Position of darkest pixel (flattened): 1\n"
          ]
        }
      ]
    },
    {
      "cell_type": "markdown",
      "source": [
        "tf.argmax and tf.argmin return indices, not the values themselves.\n",
        "If there are ties (multiple maximum/minimum values), the index of the first occurrence is returned.\n",
        "These functions are especially useful in:\n",
        "Classification tasks: Identifying predicted class indices.\n",
        "Image processing: Finding the position of key points (e.g., brightest or darkest pixels)."
      ],
      "metadata": {
        "id": "P-6P0_0YtsXA"
      }
    },
    {
      "cell_type": "code",
      "source": [
        "import tensorflow as tf\n",
        "\n",
        "# Create a tensor with shape (1, 3, 1, 2)\n",
        "tensor = tf.constant([[[[1, 2]], [[3, 4]], [[5, 6]]]])\n",
        "\n",
        "print(\"Original Tensor Shape:\", tensor.shape)\n",
        "\n",
        "# Squeeze to remove all dimensions of size 1\n",
        "squeezed_tensor = tf.squeeze(tensor)\n",
        "\n",
        "print(\"Squeezed Tensor Shape:\", squeezed_tensor.shape)\n"
      ],
      "metadata": {
        "colab": {
          "base_uri": "https://localhost:8080/"
        },
        "id": "bdBnqQO5tRHV",
        "outputId": "76d04a79-4032-4e64-a3bf-fb682a71cb63"
      },
      "execution_count": 18,
      "outputs": [
        {
          "output_type": "stream",
          "name": "stdout",
          "text": [
            "Original Tensor Shape: (1, 3, 1, 2)\n",
            "Squeezed Tensor Shape: (3, 2)\n"
          ]
        }
      ]
    },
    {
      "cell_type": "code",
      "source": [
        "# Create a tensor with shape (1, 3, 1, 2)\n",
        "tensor = tf.constant([[[[1, 2]], [[3, 4]], [[5, 6]]]])\n",
        "\n",
        "print(\"Original Tensor Shape:\", tensor.shape)\n",
        "\n",
        "# Squeeze only the first axis (axis=0)\n",
        "squeezed_axis0 = tf.squeeze(tensor, axis=0)\n",
        "\n",
        "print(\"Squeezed Tensor Shape (axis=0):\", squeezed_axis0.shape)\n",
        "\n",
        "# Squeeze only the third axis (axis=2)\n",
        "squeezed_axis2 = tf.squeeze(tensor, axis=2)\n",
        "\n",
        "print(\"Squeezed Tensor Shape (axis=2):\", squeezed_axis2.shape)\n"
      ],
      "metadata": {
        "colab": {
          "base_uri": "https://localhost:8080/"
        },
        "id": "Zq9rngkivfFn",
        "outputId": "6bf44d33-5171-4205-c2a5-a649858c97fa"
      },
      "execution_count": 19,
      "outputs": [
        {
          "output_type": "stream",
          "name": "stdout",
          "text": [
            "Original Tensor Shape: (1, 3, 1, 2)\n",
            "Squeezed Tensor Shape (axis=0): (3, 1, 2)\n",
            "Squeezed Tensor Shape (axis=2): (1, 3, 2)\n"
          ]
        }
      ]
    },
    {
      "cell_type": "code",
      "source": [
        "# Tensor shape: (1, 3, 1, 2)\n",
        "tensor = tf.constant([[[[1, 2]], [[3, 4]], [[5, 6]]]])\n",
        "\n",
        "try:\n",
        "    # Attempt to squeeze axis=1 (which has size 3)\n",
        "    tf.squeeze(tensor, axis=1)\n",
        "except ValueError as e:\n",
        "    print(\"Error:\", e)\n"
      ],
      "metadata": {
        "colab": {
          "base_uri": "https://localhost:8080/",
          "height": 371
        },
        "id": "qhoTt97kvkmo",
        "outputId": "a2948512-89a3-4395-8321-a91d60b0be82"
      },
      "execution_count": 20,
      "outputs": [
        {
          "output_type": "error",
          "ename": "InvalidArgumentError",
          "evalue": "{{function_node __wrapped__Squeeze_device_/job:localhost/replica:0/task:0/device:CPU:0}} Can not squeeze dim[1], expected a dimension of 1, got 3 [Op:Squeeze] name: ",
          "traceback": [
            "\u001b[0;31m---------------------------------------------------------------------------\u001b[0m",
            "\u001b[0;31mInvalidArgumentError\u001b[0m                      Traceback (most recent call last)",
            "\u001b[0;32m<ipython-input-20-a34f5ab827f9>\u001b[0m in \u001b[0;36m<cell line: 0>\u001b[0;34m()\u001b[0m\n\u001b[1;32m      4\u001b[0m \u001b[0;32mtry\u001b[0m\u001b[0;34m:\u001b[0m\u001b[0;34m\u001b[0m\u001b[0;34m\u001b[0m\u001b[0m\n\u001b[1;32m      5\u001b[0m     \u001b[0;31m# Attempt to squeeze axis=1 (which has size 3)\u001b[0m\u001b[0;34m\u001b[0m\u001b[0;34m\u001b[0m\u001b[0m\n\u001b[0;32m----> 6\u001b[0;31m     \u001b[0mtf\u001b[0m\u001b[0;34m.\u001b[0m\u001b[0msqueeze\u001b[0m\u001b[0;34m(\u001b[0m\u001b[0mtensor\u001b[0m\u001b[0;34m,\u001b[0m \u001b[0maxis\u001b[0m\u001b[0;34m=\u001b[0m\u001b[0;36m1\u001b[0m\u001b[0;34m)\u001b[0m\u001b[0;34m\u001b[0m\u001b[0;34m\u001b[0m\u001b[0m\n\u001b[0m\u001b[1;32m      7\u001b[0m \u001b[0;32mexcept\u001b[0m \u001b[0mValueError\u001b[0m \u001b[0;32mas\u001b[0m \u001b[0me\u001b[0m\u001b[0;34m:\u001b[0m\u001b[0;34m\u001b[0m\u001b[0;34m\u001b[0m\u001b[0m\n\u001b[1;32m      8\u001b[0m     \u001b[0mprint\u001b[0m\u001b[0;34m(\u001b[0m\u001b[0;34m\"Error:\"\u001b[0m\u001b[0;34m,\u001b[0m \u001b[0me\u001b[0m\u001b[0;34m)\u001b[0m\u001b[0;34m\u001b[0m\u001b[0;34m\u001b[0m\u001b[0m\n",
            "\u001b[0;32m/usr/local/lib/python3.11/dist-packages/tensorflow/python/ops/weak_tensor_ops.py\u001b[0m in \u001b[0;36mwrapper\u001b[0;34m(*args, **kwargs)\u001b[0m\n\u001b[1;32m     86\u001b[0m   \u001b[0;32mdef\u001b[0m \u001b[0mwrapper\u001b[0m\u001b[0;34m(\u001b[0m\u001b[0;34m*\u001b[0m\u001b[0margs\u001b[0m\u001b[0;34m,\u001b[0m \u001b[0;34m**\u001b[0m\u001b[0mkwargs\u001b[0m\u001b[0;34m)\u001b[0m\u001b[0;34m:\u001b[0m\u001b[0;34m\u001b[0m\u001b[0;34m\u001b[0m\u001b[0m\n\u001b[1;32m     87\u001b[0m     \u001b[0;32mif\u001b[0m \u001b[0;32mnot\u001b[0m \u001b[0mops\u001b[0m\u001b[0;34m.\u001b[0m\u001b[0mis_auto_dtype_conversion_enabled\u001b[0m\u001b[0;34m(\u001b[0m\u001b[0;34m)\u001b[0m\u001b[0;34m:\u001b[0m\u001b[0;34m\u001b[0m\u001b[0;34m\u001b[0m\u001b[0m\n\u001b[0;32m---> 88\u001b[0;31m       \u001b[0;32mreturn\u001b[0m \u001b[0mop\u001b[0m\u001b[0;34m(\u001b[0m\u001b[0;34m*\u001b[0m\u001b[0margs\u001b[0m\u001b[0;34m,\u001b[0m \u001b[0;34m**\u001b[0m\u001b[0mkwargs\u001b[0m\u001b[0;34m)\u001b[0m\u001b[0;34m\u001b[0m\u001b[0;34m\u001b[0m\u001b[0m\n\u001b[0m\u001b[1;32m     89\u001b[0m     \u001b[0mbound_arguments\u001b[0m \u001b[0;34m=\u001b[0m \u001b[0msignature\u001b[0m\u001b[0;34m.\u001b[0m\u001b[0mbind\u001b[0m\u001b[0;34m(\u001b[0m\u001b[0;34m*\u001b[0m\u001b[0margs\u001b[0m\u001b[0;34m,\u001b[0m \u001b[0;34m**\u001b[0m\u001b[0mkwargs\u001b[0m\u001b[0;34m)\u001b[0m\u001b[0;34m\u001b[0m\u001b[0;34m\u001b[0m\u001b[0m\n\u001b[1;32m     90\u001b[0m     \u001b[0mbound_arguments\u001b[0m\u001b[0;34m.\u001b[0m\u001b[0mapply_defaults\u001b[0m\u001b[0;34m(\u001b[0m\u001b[0;34m)\u001b[0m\u001b[0;34m\u001b[0m\u001b[0;34m\u001b[0m\u001b[0m\n",
            "\u001b[0;32m/usr/local/lib/python3.11/dist-packages/tensorflow/python/util/traceback_utils.py\u001b[0m in \u001b[0;36merror_handler\u001b[0;34m(*args, **kwargs)\u001b[0m\n\u001b[1;32m    151\u001b[0m     \u001b[0;32mexcept\u001b[0m \u001b[0mException\u001b[0m \u001b[0;32mas\u001b[0m \u001b[0me\u001b[0m\u001b[0;34m:\u001b[0m\u001b[0;34m\u001b[0m\u001b[0;34m\u001b[0m\u001b[0m\n\u001b[1;32m    152\u001b[0m       \u001b[0mfiltered_tb\u001b[0m \u001b[0;34m=\u001b[0m \u001b[0m_process_traceback_frames\u001b[0m\u001b[0;34m(\u001b[0m\u001b[0me\u001b[0m\u001b[0;34m.\u001b[0m\u001b[0m__traceback__\u001b[0m\u001b[0;34m)\u001b[0m\u001b[0;34m\u001b[0m\u001b[0;34m\u001b[0m\u001b[0m\n\u001b[0;32m--> 153\u001b[0;31m       \u001b[0;32mraise\u001b[0m \u001b[0me\u001b[0m\u001b[0;34m.\u001b[0m\u001b[0mwith_traceback\u001b[0m\u001b[0;34m(\u001b[0m\u001b[0mfiltered_tb\u001b[0m\u001b[0;34m)\u001b[0m \u001b[0;32mfrom\u001b[0m \u001b[0;32mNone\u001b[0m\u001b[0;34m\u001b[0m\u001b[0;34m\u001b[0m\u001b[0m\n\u001b[0m\u001b[1;32m    154\u001b[0m     \u001b[0;32mfinally\u001b[0m\u001b[0;34m:\u001b[0m\u001b[0;34m\u001b[0m\u001b[0;34m\u001b[0m\u001b[0m\n\u001b[1;32m    155\u001b[0m       \u001b[0;32mdel\u001b[0m \u001b[0mfiltered_tb\u001b[0m\u001b[0;34m\u001b[0m\u001b[0;34m\u001b[0m\u001b[0m\n",
            "\u001b[0;32m/usr/local/lib/python3.11/dist-packages/tensorflow/python/framework/ops.py\u001b[0m in \u001b[0;36mraise_from_not_ok_status\u001b[0;34m(e, name)\u001b[0m\n\u001b[1;32m   5981\u001b[0m \u001b[0;32mdef\u001b[0m \u001b[0mraise_from_not_ok_status\u001b[0m\u001b[0;34m(\u001b[0m\u001b[0me\u001b[0m\u001b[0;34m,\u001b[0m \u001b[0mname\u001b[0m\u001b[0;34m)\u001b[0m \u001b[0;34m->\u001b[0m \u001b[0mNoReturn\u001b[0m\u001b[0;34m:\u001b[0m\u001b[0;34m\u001b[0m\u001b[0;34m\u001b[0m\u001b[0m\n\u001b[1;32m   5982\u001b[0m   \u001b[0me\u001b[0m\u001b[0;34m.\u001b[0m\u001b[0mmessage\u001b[0m \u001b[0;34m+=\u001b[0m \u001b[0;34m(\u001b[0m\u001b[0;34m\" name: \"\u001b[0m \u001b[0;34m+\u001b[0m \u001b[0mstr\u001b[0m\u001b[0;34m(\u001b[0m\u001b[0mname\u001b[0m \u001b[0;32mif\u001b[0m \u001b[0mname\u001b[0m \u001b[0;32mis\u001b[0m \u001b[0;32mnot\u001b[0m \u001b[0;32mNone\u001b[0m \u001b[0;32melse\u001b[0m \u001b[0;34m\"\"\u001b[0m\u001b[0;34m)\u001b[0m\u001b[0;34m)\u001b[0m\u001b[0;34m\u001b[0m\u001b[0;34m\u001b[0m\u001b[0m\n\u001b[0;32m-> 5983\u001b[0;31m   \u001b[0;32mraise\u001b[0m \u001b[0mcore\u001b[0m\u001b[0;34m.\u001b[0m\u001b[0m_status_to_exception\u001b[0m\u001b[0;34m(\u001b[0m\u001b[0me\u001b[0m\u001b[0;34m)\u001b[0m \u001b[0;32mfrom\u001b[0m \u001b[0;32mNone\u001b[0m  \u001b[0;31m# pylint: disable=protected-access\u001b[0m\u001b[0;34m\u001b[0m\u001b[0;34m\u001b[0m\u001b[0m\n\u001b[0m\u001b[1;32m   5984\u001b[0m \u001b[0;34m\u001b[0m\u001b[0m\n\u001b[1;32m   5985\u001b[0m \u001b[0;34m\u001b[0m\u001b[0m\n",
            "\u001b[0;31mInvalidArgumentError\u001b[0m: {{function_node __wrapped__Squeeze_device_/job:localhost/replica:0/task:0/device:CPU:0}} Can not squeeze dim[1], expected a dimension of 1, got 3 [Op:Squeeze] name: "
          ]
        }
      ]
    },
    {
      "cell_type": "code",
      "source": [
        "# Tensor shape: (1, 3, 1, 2)\n",
        "tensor = tf.constant([[[[1, 2]], [[3, 4]], [[5, 6]]]])\n",
        "\n",
        "try:\n",
        "    # Attempt to squeeze axis=0 or axis=2 (which have size 1)\n",
        "    squeezed_tensor = tf.squeeze(tensor, axis=[0, 2])  # Squeeze axes 0 and 2\n",
        "    print(\"Squeezed Tensor Shape:\", squeezed_tensor.shape)\n",
        "except ValueError as e:\n",
        "    print(\"Error:\", e)"
      ],
      "metadata": {
        "colab": {
          "base_uri": "https://localhost:8080/"
        },
        "id": "u6WiT-wOwWHn",
        "outputId": "e20024b7-45f4-4828-e2f8-09da1a39bade"
      },
      "execution_count": 22,
      "outputs": [
        {
          "output_type": "stream",
          "name": "stdout",
          "text": [
            "Squeezed Tensor Shape: (3, 2)\n"
          ]
        }
      ]
    },
    {
      "cell_type": "code",
      "source": [
        "# Grayscale image tensor with shape (1, 28, 28, 1)\n",
        "image = tf.random.uniform((1, 28, 28, 1))\n",
        "\n",
        "# Remove the batch and channel dimensions\n",
        "squeezed_image = tf.squeeze(image)\n",
        "\n",
        "print(\"Original Shape:\", image.shape)\n",
        "print(\"Squeezed Shape:\", squeezed_image.shape)\n"
      ],
      "metadata": {
        "colab": {
          "base_uri": "https://localhost:8080/"
        },
        "id": "AiajlYMAvpC7",
        "outputId": "7aa04b39-9598-4a32-f46b-123e49eab233"
      },
      "execution_count": 21,
      "outputs": [
        {
          "output_type": "stream",
          "name": "stdout",
          "text": [
            "Original Shape: (1, 28, 28, 1)\n",
            "Squeezed Shape: (28, 28)\n"
          ]
        }
      ]
    },
    {
      "cell_type": "code",
      "source": [
        "# Model output tensor with shape (4, 1)\n",
        "predictions = tf.constant([[0.1], [0.8], [0.3], [0.5]])\n",
        "\n",
        "# Squeeze to remove the second dimension\n",
        "squeezed_predictions = tf.squeeze(predictions)\n",
        "\n",
        "print(\"Original Shape:\", predictions.shape)\n",
        "print(\"Squeezed Shape:\", squeezed_predictions.shape)\n"
      ],
      "metadata": {
        "colab": {
          "base_uri": "https://localhost:8080/"
        },
        "id": "0LTGOaEawOm_",
        "outputId": "2d64a288-f361-44d0-fede-c6ed2b03e7b7"
      },
      "execution_count": 23,
      "outputs": [
        {
          "output_type": "stream",
          "name": "stdout",
          "text": [
            "Original Shape: (4, 1)\n",
            "Squeezed Shape: (4,)\n"
          ]
        }
      ]
    },
    {
      "cell_type": "code",
      "source": [
        "# Result of broadcasting\n",
        "broadcast_tensor = tf.constant([[[[1, 2]]]]) + tf.constant([[[[3, 4]]]])\n",
        "\n",
        "# Squeeze the result to simplify shape\n",
        "simplified_tensor = tf.squeeze(broadcast_tensor)\n",
        "\n",
        "print(\"Broadcast Tensor Shape:\", broadcast_tensor.shape)\n",
        "print(\"Simplified Tensor Shape:\", simplified_tensor.shape)\n"
      ],
      "metadata": {
        "colab": {
          "base_uri": "https://localhost:8080/"
        },
        "id": "Cczik_5Nwbnq",
        "outputId": "4b2a9707-b800-46c6-a1af-9f663e80a035"
      },
      "execution_count": 24,
      "outputs": [
        {
          "output_type": "stream",
          "name": "stdout",
          "text": [
            "Broadcast Tensor Shape: (1, 1, 1, 2)\n",
            "Simplified Tensor Shape: (2,)\n"
          ]
        }
      ]
    },
    {
      "cell_type": "markdown",
      "source": [
        "Use tf.squeeze() to remove dimensions with size 1 for simplifying tensor shapes.\n",
        "Specify the axis to control which dimensions to remove, or leave it as None to remove all singleton dimensions.\n",
        "Squeezing is often used in:\n",
        "Image processing (e.g., removing extra dimensions after loading an image).\n",
        "Simplifying model outputs (e.g., flattening predictions).\n",
        "Preparing data for visualization or further computation."
      ],
      "metadata": {
        "id": "yquwUqftwkPU"
      }
    },
    {
      "cell_type": "code",
      "source": [
        "import tensorflow as tf\n",
        "\n",
        "# Categories represented as indices\n",
        "categories = tf.constant([0, 1, 2, 1])\n",
        "\n",
        "# Perform one-hot encoding\n",
        "one_hot_tensor = tf.one_hot(categories, depth=3)\n",
        "\n",
        "print(\"Original Tensor:\", categories.numpy())\n",
        "print(\"One-Hot Encoded Tensor:\\n\", one_hot_tensor.numpy())\n"
      ],
      "metadata": {
        "colab": {
          "base_uri": "https://localhost:8080/"
        },
        "id": "fxIT_g7mwgUb",
        "outputId": "5e137423-f5eb-4f03-9af7-f45012c09f91"
      },
      "execution_count": 25,
      "outputs": [
        {
          "output_type": "stream",
          "name": "stdout",
          "text": [
            "Original Tensor: [0 1 2 1]\n",
            "One-Hot Encoded Tensor:\n",
            " [[1. 0. 0.]\n",
            " [0. 1. 0.]\n",
            " [0. 0. 1.]\n",
            " [0. 1. 0.]]\n"
          ]
        }
      ]
    },
    {
      "cell_type": "code",
      "source": [
        "# Perform one-hot encoding along the 0th axis\n",
        "one_hot_tensor_axis0 = tf.one_hot(categories, depth=3, axis=0)\n",
        "\n",
        "print(\"One-Hot Encoded Tensor (axis=0):\\n\", one_hot_tensor_axis0.numpy())\n"
      ],
      "metadata": {
        "colab": {
          "base_uri": "https://localhost:8080/"
        },
        "id": "EswRiV1dzCU7",
        "outputId": "431394c5-628e-4b08-f681-0535314afcf4"
      },
      "execution_count": 26,
      "outputs": [
        {
          "output_type": "stream",
          "name": "stdout",
          "text": [
            "One-Hot Encoded Tensor (axis=0):\n",
            " [[1. 0. 0. 0.]\n",
            " [0. 1. 0. 1.]\n",
            " [0. 0. 1. 0.]]\n"
          ]
        }
      ]
    },
    {
      "cell_type": "code",
      "source": [
        "# 2D tensor of categories\n",
        "categories_2d = tf.constant([[0, 1], [2, 1]])\n",
        "\n",
        "# Perform one-hot encoding\n",
        "one_hot_tensor_2d = tf.one_hot(categories_2d, depth=3)\n",
        "\n",
        "print(\"Original Tensor:\\n\", categories_2d.numpy())\n",
        "print(\"One-Hot Encoded Tensor:\\n\", one_hot_tensor_2d.numpy())\n"
      ],
      "metadata": {
        "colab": {
          "base_uri": "https://localhost:8080/"
        },
        "id": "le6f0oR2zI4d",
        "outputId": "f7415120-08aa-4bb4-9286-0f84b39fa3e7"
      },
      "execution_count": 27,
      "outputs": [
        {
          "output_type": "stream",
          "name": "stdout",
          "text": [
            "Original Tensor:\n",
            " [[0 1]\n",
            " [2 1]]\n",
            "One-Hot Encoded Tensor:\n",
            " [[[1. 0. 0.]\n",
            "  [0. 1. 0.]]\n",
            "\n",
            " [[0. 0. 1.]\n",
            "  [0. 1. 0.]]]\n"
          ]
        }
      ]
    },
    {
      "cell_type": "code",
      "source": [
        "# Define class labels\n",
        "classes = [\"cat\", \"dog\", \"rabbit\"]\n",
        "class_indices = tf.constant([0, 2, 1, 0])  # Corresponding to \"cat\", \"rabbit\", \"dog\", \"cat\"\n",
        "\n",
        "# One-hot encode the class indices\n",
        "one_hot_labels = tf.one_hot(class_indices, depth=len(classes))\n",
        "\n",
        "print(\"Class Indices:\", class_indices.numpy())\n",
        "print(\"One-Hot Encoded Labels:\\n\", one_hot_labels.numpy())\n"
      ],
      "metadata": {
        "colab": {
          "base_uri": "https://localhost:8080/"
        },
        "id": "irevJuw_zMdl",
        "outputId": "0f4429ce-97af-4b9c-ed4e-c42007e248e8"
      },
      "execution_count": 28,
      "outputs": [
        {
          "output_type": "stream",
          "name": "stdout",
          "text": [
            "Class Indices: [0 2 1 0]\n",
            "One-Hot Encoded Labels:\n",
            " [[1. 0. 0.]\n",
            " [0. 0. 1.]\n",
            " [0. 1. 0.]\n",
            " [1. 0. 0.]]\n"
          ]
        }
      ]
    },
    {
      "cell_type": "code",
      "source": [
        "import tensorflow as tf\n",
        "\n",
        "# Define class labels (textual categories)\n",
        "categories = [\"cat\", \"dog\", \"rabbit\"]\n",
        "\n",
        "# Assign class indices to each category\n",
        "class_indices = tf.constant([0, 2, 1, 0])  # Representing \"cat\", \"rabbit\", \"dog\", \"cat\"\n",
        "\n",
        "# Convert class indices to one-hot encoding\n",
        "one_hot_labels = tf.one_hot(class_indices, depth=len(categories))\n",
        "\n",
        "print(\"Class Indices:\", class_indices.numpy())\n",
        "print(\"One-Hot Encoded Labels:\\n\", one_hot_labels.numpy())\n"
      ],
      "metadata": {
        "colab": {
          "base_uri": "https://localhost:8080/"
        },
        "id": "A1NjzUVizSCz",
        "outputId": "24cc7d48-2990-496e-ebed-918ba78b34d5"
      },
      "execution_count": 29,
      "outputs": [
        {
          "output_type": "stream",
          "name": "stdout",
          "text": [
            "Class Indices: [0 2 1 0]\n",
            "One-Hot Encoded Labels:\n",
            " [[1. 0. 0.]\n",
            " [0. 0. 1.]\n",
            " [0. 1. 0.]\n",
            " [1. 0. 0.]]\n"
          ]
        }
      ]
    },
    {
      "cell_type": "code",
      "source": [
        "import tensorflow as tf\n",
        "\n",
        "# Create a tensor\n",
        "tensor = tf.constant([1, 2, 3, 4, 5], dtype=tf.float32)\n",
        "\n",
        "# Square the tensor\n",
        "squared_tensor = tf.square(tensor)\n",
        "\n",
        "print(\"Original Tensor:\", tensor.numpy())\n",
        "print(\"Squared Tensor:\", squared_tensor.numpy())\n"
      ],
      "metadata": {
        "colab": {
          "base_uri": "https://localhost:8080/"
        },
        "id": "2XxRf19v2IP9",
        "outputId": "f6ec2eb2-2e77-4780-e3d9-bca39681b5b0"
      },
      "execution_count": 30,
      "outputs": [
        {
          "output_type": "stream",
          "name": "stdout",
          "text": [
            "Original Tensor: [1. 2. 3. 4. 5.]\n",
            "Squared Tensor: [ 1.  4.  9. 16. 25.]\n"
          ]
        }
      ]
    },
    {
      "cell_type": "code",
      "source": [
        "# Create a tensor\n",
        "tensor = tf.constant([1, 10, 100, 1000], dtype=tf.float32)\n",
        "\n",
        "# Natural log\n",
        "log_tensor = tf.math.log(tensor)\n",
        "\n",
        "# Log base 10\n",
        "log10_tensor = tf.math.log10(tensor)\n",
        "\n",
        "print(\"Original Tensor:\", tensor.numpy())\n",
        "print(\"Natural Log:\", log_tensor.numpy())\n",
        "print(\"Log Base 10:\", log10_tensor.numpy())\n"
      ],
      "metadata": {
        "colab": {
          "base_uri": "https://localhost:8080/",
          "height": 219
        },
        "id": "iFbofILc3MSI",
        "outputId": "b2a31ecd-cd32-4736-a864-622b4cfcc0e4"
      },
      "execution_count": 31,
      "outputs": [
        {
          "output_type": "error",
          "ename": "AttributeError",
          "evalue": "module 'tensorflow._api.v2.math' has no attribute 'log10'",
          "traceback": [
            "\u001b[0;31m---------------------------------------------------------------------------\u001b[0m",
            "\u001b[0;31mAttributeError\u001b[0m                            Traceback (most recent call last)",
            "\u001b[0;32m<ipython-input-31-95d5ebfe0211>\u001b[0m in \u001b[0;36m<cell line: 0>\u001b[0;34m()\u001b[0m\n\u001b[1;32m      6\u001b[0m \u001b[0;34m\u001b[0m\u001b[0m\n\u001b[1;32m      7\u001b[0m \u001b[0;31m# Log base 10\u001b[0m\u001b[0;34m\u001b[0m\u001b[0;34m\u001b[0m\u001b[0m\n\u001b[0;32m----> 8\u001b[0;31m \u001b[0mlog10_tensor\u001b[0m \u001b[0;34m=\u001b[0m \u001b[0mtf\u001b[0m\u001b[0;34m.\u001b[0m\u001b[0mmath\u001b[0m\u001b[0;34m.\u001b[0m\u001b[0mlog10\u001b[0m\u001b[0;34m(\u001b[0m\u001b[0mtensor\u001b[0m\u001b[0;34m)\u001b[0m\u001b[0;34m\u001b[0m\u001b[0;34m\u001b[0m\u001b[0m\n\u001b[0m\u001b[1;32m      9\u001b[0m \u001b[0;34m\u001b[0m\u001b[0m\n\u001b[1;32m     10\u001b[0m \u001b[0mprint\u001b[0m\u001b[0;34m(\u001b[0m\u001b[0;34m\"Original Tensor:\"\u001b[0m\u001b[0;34m,\u001b[0m \u001b[0mtensor\u001b[0m\u001b[0;34m.\u001b[0m\u001b[0mnumpy\u001b[0m\u001b[0;34m(\u001b[0m\u001b[0;34m)\u001b[0m\u001b[0;34m)\u001b[0m\u001b[0;34m\u001b[0m\u001b[0;34m\u001b[0m\u001b[0m\n",
            "\u001b[0;31mAttributeError\u001b[0m: module 'tensorflow._api.v2.math' has no attribute 'log10'"
          ]
        }
      ]
    },
    {
      "cell_type": "code",
      "source": [
        "import tensorflow as tf\n",
        "\n",
        "# Create a tensor\n",
        "tensor = tf.constant([1, 10, 100, 1000], dtype=tf.float32)\n",
        "\n",
        "# Natural log\n",
        "log_tensor = tf.math.log(tensor)\n",
        "\n",
        "# Log base 10 (using a different approach)\n",
        "log10_tensor = tf.math.log(tensor) / tf.math.log(tf.constant(10, dtype=tensor.dtype))\n",
        "\n",
        "print(\"Original Tensor:\", tensor.numpy())\n",
        "print(\"Natural Log:\", log_tensor.numpy())\n",
        "print(\"Log Base 10:\", log10_tensor.numpy())"
      ],
      "metadata": {
        "colab": {
          "base_uri": "https://localhost:8080/"
        },
        "id": "3zyKE7xw3W2P",
        "outputId": "1939a8e6-7a29-42dd-d314-a2311cccfe90"
      },
      "execution_count": 33,
      "outputs": [
        {
          "output_type": "stream",
          "name": "stdout",
          "text": [
            "Original Tensor: [   1.   10.  100. 1000.]\n",
            "Natural Log: [0.        2.3025851 4.6051702 6.9077554]\n",
            "Log Base 10: [0. 1. 2. 3.]\n"
          ]
        }
      ]
    },
    {
      "cell_type": "code",
      "source": [
        "# Create a tensor\n",
        "tensor = tf.constant([1, 4, 9, 16, 25], dtype=tf.float32)\n",
        "\n",
        "# Square root\n",
        "sqrt_tensor = tf.sqrt(tensor)\n",
        "\n",
        "print(\"Original Tensor:\", tensor.numpy())\n",
        "print(\"Square Root Tensor:\", sqrt_tensor.numpy())\n"
      ],
      "metadata": {
        "colab": {
          "base_uri": "https://localhost:8080/"
        },
        "id": "yt5mVEw73OTN",
        "outputId": "ac32467b-a19e-4f1c-d59e-b4ff4f57703e"
      },
      "execution_count": 32,
      "outputs": [
        {
          "output_type": "stream",
          "name": "stdout",
          "text": [
            "Original Tensor: [ 1.  4.  9. 16. 25.]\n",
            "Square Root Tensor: [1. 2. 3. 4. 5.]\n"
          ]
        }
      ]
    },
    {
      "cell_type": "code",
      "source": [
        "# Tensor with positive values\n",
        "tensor = tf.constant([1, 4, 9, 16], dtype=tf.float32)\n",
        "\n",
        "# Calculate log of square root of squared tensor\n",
        "result = tf.math.log(tf.sqrt(tf.square(tensor)))\n",
        "\n",
        "print(\"Result:\", result.numpy())\n"
      ],
      "metadata": {
        "colab": {
          "base_uri": "https://localhost:8080/"
        },
        "id": "--99h26t3Qcs",
        "outputId": "a76332a6-1dc8-4b1d-d97f-5252cb1e2e4c"
      },
      "execution_count": 34,
      "outputs": [
        {
          "output_type": "stream",
          "name": "stdout",
          "text": [
            "Result: [0.        1.3862944 2.1972246 2.7725887]\n"
          ]
        }
      ]
    },
    {
      "cell_type": "markdown",
      "source": [
        "nput Restrictions:\n",
        "Logarithm (tf.math.log, tf.math.log10, etc.) requires positive values. Negative or zero values result in NaN or errors.\n",
        "Square root (tf.sqrt()) also requires non-negative values. Negative values will result in NaN.\n"
      ],
      "metadata": {
        "id": "T8lPZ8D63eEC"
      }
    },
    {
      "cell_type": "code",
      "source": [
        "int_tensor = tf.constant([1, 4, 9, 16], dtype=tf.int32)\n",
        "\n",
        "# Cast to float for square root\n",
        "float_tensor = tf.cast(int_tensor, dtype=tf.float32)\n",
        "sqrt_tensor = tf.sqrt(float_tensor)\n",
        "\n",
        "print(\"Square Root Tensor:\", sqrt_tensor.numpy())\n"
      ],
      "metadata": {
        "colab": {
          "base_uri": "https://localhost:8080/"
        },
        "id": "vHtbxs003aM6",
        "outputId": "7ee5a5b4-c633-421e-c3c3-fae062301444"
      },
      "execution_count": 35,
      "outputs": [
        {
          "output_type": "stream",
          "name": "stdout",
          "text": [
            "Square Root Tensor: [1. 2. 3. 4.]\n"
          ]
        }
      ]
    },
    {
      "cell_type": "markdown",
      "source": [
        "#tensors and numpy"
      ],
      "metadata": {
        "id": "TYOEOUIW4311"
      }
    },
    {
      "cell_type": "code",
      "source": [
        "import tensorflow as tf\n",
        "\n",
        "# Create a tensor\n",
        "tensor = tf.constant([1, 2, 3, 4], dtype=tf.float32)\n",
        "\n",
        "# Convert to NumPy array\n",
        "numpy_array = tensor.numpy()\n",
        "\n",
        "print(\"Tensor:\", tensor)\n",
        "print(\"NumPy Array:\", numpy_array)\n"
      ],
      "metadata": {
        "colab": {
          "base_uri": "https://localhost:8080/"
        },
        "id": "1UQmQn-73iIU",
        "outputId": "98d95cb6-58a0-4d5f-f716-cd2f087f583d"
      },
      "execution_count": 36,
      "outputs": [
        {
          "output_type": "stream",
          "name": "stdout",
          "text": [
            "Tensor: tf.Tensor([1. 2. 3. 4.], shape=(4,), dtype=float32)\n",
            "NumPy Array: [1. 2. 3. 4.]\n"
          ]
        }
      ]
    },
    {
      "cell_type": "code",
      "source": [
        "import numpy as np\n",
        "\n",
        "# Create a NumPy array\n",
        "numpy_array = np.array([5, 6, 7, 8], dtype=np.float32)\n",
        "\n",
        "# Convert to Tensor\n",
        "tensor = tf.convert_to_tensor(numpy_array)\n",
        "\n",
        "print(\"NumPy Array:\", numpy_array)\n",
        "print(\"Tensor:\", tensor)\n"
      ],
      "metadata": {
        "colab": {
          "base_uri": "https://localhost:8080/"
        },
        "id": "XoQd82Ww48IX",
        "outputId": "e5e85f6a-60e3-4609-ecad-efe720b7fa68"
      },
      "execution_count": 37,
      "outputs": [
        {
          "output_type": "stream",
          "name": "stdout",
          "text": [
            "NumPy Array: [5. 6. 7. 8.]\n",
            "Tensor: tf.Tensor([5. 6. 7. 8.], shape=(4,), dtype=float32)\n"
          ]
        }
      ]
    },
    {
      "cell_type": "code",
      "source": [
        "# Create a tensor\n",
        "tensor = tf.constant([1, 2, 3, 4], dtype=tf.float32)\n",
        "\n",
        "# Convert to NumPy array\n",
        "numpy_array = tensor.numpy()\n",
        "\n",
        "# Modify the NumPy array\n",
        "numpy_array[0] = 100\n",
        "\n",
        "print(\"Modified NumPy Array:\", numpy_array)\n",
        "print(\"Original Tensor (unchanged):\", tensor)\n"
      ],
      "metadata": {
        "colab": {
          "base_uri": "https://localhost:8080/"
        },
        "id": "dCr-yx0X5ACp",
        "outputId": "e642586f-fba8-4acf-89af-e11ddc3cb7dd"
      },
      "execution_count": 38,
      "outputs": [
        {
          "output_type": "stream",
          "name": "stdout",
          "text": [
            "Modified NumPy Array: [100.   2.   3.   4.]\n",
            "Original Tensor (unchanged): tf.Tensor([1. 2. 3. 4.], shape=(4,), dtype=float32)\n"
          ]
        }
      ]
    },
    {
      "cell_type": "code",
      "source": [
        "# Create a tensor\n",
        "tensor = tf.constant([1.0, 4.0, 9.0, 16.0])\n",
        "\n",
        "# Use NumPy functions\n",
        "sqrt_numpy = np.sqrt(tensor)\n",
        "\n",
        "print(\"NumPy Square Root:\", sqrt_numpy)\n"
      ],
      "metadata": {
        "colab": {
          "base_uri": "https://localhost:8080/"
        },
        "id": "r-ez1Cku5EsU",
        "outputId": "c0c94694-6931-404d-8b41-733bed7aae78"
      },
      "execution_count": 39,
      "outputs": [
        {
          "output_type": "stream",
          "name": "stdout",
          "text": [
            "NumPy Square Root: [1. 2. 3. 4.]\n"
          ]
        }
      ]
    },
    {
      "cell_type": "code",
      "source": [
        "# Define a simple TensorFlow operation\n",
        "tensor = tf.constant([1, 2, 3], dtype=tf.float32)\n",
        "\n",
        "# Use a NumPy array in an operation\n",
        "numpy_array = np.array([3, 2, 1], dtype=np.float32)\n",
        "result = tf.add(tensor, numpy_array)  # TensorFlow adds automatically\n",
        "\n",
        "print(\"Result:\", result)\n",
        "\n"
      ],
      "metadata": {
        "colab": {
          "base_uri": "https://localhost:8080/"
        },
        "id": "AY68NrsS5H31",
        "outputId": "d388f7fd-40c0-457f-d9f3-b6a712e11370"
      },
      "execution_count": 40,
      "outputs": [
        {
          "output_type": "stream",
          "name": "stdout",
          "text": [
            "Result: tf.Tensor([4. 4. 4.], shape=(3,), dtype=float32)\n"
          ]
        }
      ]
    },
    {
      "cell_type": "code",
      "source": [
        "# Create a NumPy array\n",
        "numpy_array = np.array([[1, 2], [3, 4]], dtype=np.float32)\n",
        "\n",
        "# Perform TensorFlow operation\n",
        "tensor_result = tf.matmul(numpy_array, numpy_array)\n",
        "\n",
        "print(\"TensorFlow Result:\\n\", tensor_result.numpy())\n"
      ],
      "metadata": {
        "colab": {
          "base_uri": "https://localhost:8080/"
        },
        "id": "14y2SS2e5LLv",
        "outputId": "d2565ed1-584d-4ef0-c00b-e2d422b0e6df"
      },
      "execution_count": 41,
      "outputs": [
        {
          "output_type": "stream",
          "name": "stdout",
          "text": [
            "TensorFlow Result:\n",
            " [[ 7. 10.]\n",
            " [15. 22.]]\n"
          ]
        }
      ]
    },
    {
      "cell_type": "markdown",
      "source": [
        "Automatic Conversion: TensorFlow automatically converts NumPy arrays to tensors when used in TensorFlow operations.\n",
        "Eager Execution: In eager execution (default mode), tensor.numpy() creates a NumPy array copy.\n",
        "Compatibility: Most NumPy operations work with tensors without explicit conversion, making it easy to integrate both libraries."
      ],
      "metadata": {
        "id": "XjwfPljF5ZKw"
      }
    },
    {
      "cell_type": "markdown",
      "source": [
        " TensorFlow and Keras\n",
        "TensorFlow integrates tightly with Keras, a high-level API for building and training models. You can quickly create deep learning models using:\n",
        "\n",
        "Sequential API: A linear stack of layers.\n",
        "Functional API: For more complex architectures like multi-input models"
      ],
      "metadata": {
        "id": "KNLZJIid6Gk5"
      }
    },
    {
      "cell_type": "code",
      "source": [
        "from tensorflow.keras import layers, models\n",
        "\n",
        "# Build a simple model\n",
        "model = models.Sequential([\n",
        "    layers.Dense(32, activation='relu'),\n",
        "    layers.Dense(10, activation='softmax')\n",
        "])\n",
        "\n",
        "# Compile the model\n",
        "model.compile(optimizer='adam', loss='sparse_categorical_crossentropy', metrics=['accuracy'])\n",
        "\n",
        "print(model.summary())\n"
      ],
      "metadata": {
        "id": "eb2hUnNI5VtD"
      },
      "execution_count": null,
      "outputs": []
    },
    {
      "cell_type": "markdown",
      "source": [
        "#Practical Use Cases\n",
        "Deep Learning Models: Build neural networks for classification, regression, or segmentation tasks.\n",
        "Data Preprocessing: Use tf.data pipelines to clean, batch, and shuffle data.\n",
        "Transfer Learning: Use pre-trained models for faster training on new tasks.\n",
        "Custom Layers/Operations: Build custom layers or operations using tf.keras.layers or tf.function."
      ],
      "metadata": {
        "id": "F-NoB6Zo6S5B"
      }
    },
    {
      "cell_type": "markdown",
      "source": [
        "Deep Learning Models: Build neural networks for classification, regression, or segmentation tasks.\n",
        "Data Preprocessing: Use tf.data pipelines to clean, batch, and shuffle data.\n",
        "Transfer Learning: Use pre-trained models for faster training on new tasks.\n",
        "Custom Layers/Operations: Build custom layers or operations using tf.keras.layers or tf.function.\n"
      ],
      "metadata": {
        "id": "YgrXhLYN68D_"
      }
    },
    {
      "cell_type": "markdown",
      "source": [],
      "metadata": {
        "id": "Oz5A0wmF7BGv"
      }
    }
  ]
}