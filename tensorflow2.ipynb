{
  "nbformat": 4,
  "nbformat_minor": 0,
  "metadata": {
    "colab": {
      "provenance": []
    },
    "kernelspec": {
      "name": "python3",
      "display_name": "Python 3"
    },
    "language_info": {
      "name": "python"
    }
  },
  "cells": [
    {
      "cell_type": "markdown",
      "source": [
        "\n",
        "#Clustering\n",
        "Now that we've covered regression and classification it's time to talk about clustering data!\n",
        "\n",
        "Clustering is a Machine Learning technique that involves the grouping of data points. In theory, data points that are in the same group should have similar properties and/or features, while data points in different groups should have highly dissimilar properties and/or features. (https://towardsdatascience.com/the-5-clustering-algorithms-data-scientists-need-to-know-a36d136ef68)\n",
        "\n",
        "Unfortunalty there are issues with the current version of TensorFlow and the implementation for KMeans. This means we cannot use KMeans without writing the algorithm from scratch. We aren't quite at that level yet, so we'll just explain the basics of clustering for now.\n",
        "\n",
        "Basic Algorithm for K-Means.\n",
        "Step 1: Randomly pick K points to place K centroids\n",
        "Step 2: Assign all the data points to the centroids by distance. The closest centroid to a point is the one it is assigned to.\n",
        "Step 3: Average all the points belonging to each centroid to find the middle of those clusters (center of mass). Place the corresponding centroids into that position.\n",
        "Step 4: Reassign every point once again to the closest centroid.\n",
        "Step 5: Repeat steps 3-4 until no point changes which centroid it belongs to.\n",
        "Please refer to the video for an explanation of KMeans clustering.\n"
      ],
      "metadata": {
        "id": "i71aPHbCI34m"
      }
    },
    {
      "cell_type": "markdown",
      "source": [
        "#Hidden Markov Models\n",
        "\"The Hidden Markov Model is a finite set of states, each of which is associated with a (generally multidimensional) probability distribution []. Transitions among the states are governed by a set of probabilities called transition probabilities.\" (http://jedlik.phy.bme.hu/~gerjanos/HMM/node4.html)\n",
        "\n",
        "A hidden markov model works with probabilities to predict future events or states. In this section we will learn how to create a hidden markov model that can predict the weather.\n",
        "\n",
        "This section is based on the following TensorFlow tutorial. https://www.tensorflow.org/probability/api_docs/python/tfp/distributions/HiddenMarkovModel"
      ],
      "metadata": {
        "id": "9Sajx21YJACy"
      }
    },
    {
      "cell_type": "markdown",
      "source": [
        "#Data\n",
        "Let's start by discussing the type of data we use when we work with a hidden markov model.\n",
        "\n",
        "In the previous sections we worked with large datasets of 100's of different entries. For a markov model we are only interested in probability distributions that have to do with states.\n",
        "\n",
        "We can find these probabilities from large datasets or may already have these values. We'll run through an example in a second that should clear some things up, but let's discuss the components of a markov model.\n",
        "\n",
        "States: In each markov model we have a finite set of states. These states could be something like \"warm\" and \"cold\" or \"high\" and \"low\" or even \"red\", \"green\" and \"blue\". These states are \"hidden\" within the model, which means we do not direcly observe them.\n",
        "\n",
        "Observations: Each state has a particular outcome or observation associated with it based on a probability distribution. An example of this is the following: On a hot day Tim has a 80% chance of being happy and a 20% chance of being sad.\n",
        "\n",
        "Transitions: Each state will have a probability defining the likelyhood of transitioning to a different state. An example is the following: a cold day has a 30% chance of being followed by a hot day and a 70% chance of being follwed by another cold day.\n",
        "\n",
        "To create a hidden markov model we need.\n",
        "\n",
        "States\n",
        "Observation Distribution\n",
        "Transition Distribution\n",
        "For our purpose we will assume we already have this information available as we attempt to predict the weather on a given day."
      ],
      "metadata": {
        "id": "249iy0lhKiY1"
      }
    },
    {
      "cell_type": "code",
      "execution_count": null,
      "metadata": {
        "colab": {
          "base_uri": "https://localhost:8080/"
        },
        "id": "Gx_9vX31IwSD",
        "outputId": "7a35ff78-4a59-4c5b-da53-51a32a3389cb"
      },
      "outputs": [
        {
          "output_type": "stream",
          "name": "stdout",
          "text": [
            "Colab only includes TensorFlow 2.x; %tensorflow_version has no effect.\n"
          ]
        }
      ],
      "source": [
        "%tensorflow_version 2.x"
      ]
    },
    {
      "cell_type": "code",
      "source": [
        "!pip install tensorflow_probability==0.8.0rc0 --user --upgrade"
      ],
      "metadata": {
        "colab": {
          "base_uri": "https://localhost:8080/"
        },
        "id": "zxpIgHOfM7wX",
        "outputId": "a15f078b-54b4-4705-b8cb-e70dc2902381"
      },
      "execution_count": null,
      "outputs": [
        {
          "output_type": "stream",
          "name": "stdout",
          "text": [
            "Collecting tensorflow_probability==0.8.0rc0\n",
            "  Downloading tensorflow_probability-0.8.0rc0-py2.py3-none-any.whl.metadata (14 kB)\n",
            "Requirement already satisfied: six>=1.10.0 in /usr/local/lib/python3.10/dist-packages (from tensorflow_probability==0.8.0rc0) (1.17.0)\n",
            "Requirement already satisfied: numpy>=1.13.3 in /usr/local/lib/python3.10/dist-packages (from tensorflow_probability==0.8.0rc0) (1.26.4)\n",
            "Requirement already satisfied: decorator in /usr/local/lib/python3.10/dist-packages (from tensorflow_probability==0.8.0rc0) (4.4.2)\n",
            "Collecting cloudpickle==1.1.1 (from tensorflow_probability==0.8.0rc0)\n",
            "  Downloading cloudpickle-1.1.1-py2.py3-none-any.whl.metadata (4.0 kB)\n",
            "Downloading tensorflow_probability-0.8.0rc0-py2.py3-none-any.whl (2.5 MB)\n",
            "\u001b[2K   \u001b[90m━━━━━━━━━━━━━━━━━━━━━━━━━━━━━━━━━━━━━━━━\u001b[0m \u001b[32m2.5/2.5 MB\u001b[0m \u001b[31m24.9 MB/s\u001b[0m eta \u001b[36m0:00:00\u001b[0m\n",
            "\u001b[?25hDownloading cloudpickle-1.1.1-py2.py3-none-any.whl (17 kB)\n",
            "Installing collected packages: cloudpickle, tensorflow_probability\n",
            "\u001b[31mERROR: pip's dependency resolver does not currently take into account all the packages that are installed. This behaviour is the source of the following dependency conflicts.\n",
            "bigframes 1.31.0 requires cloudpickle>=2.0.0, but you have cloudpickle 1.1.1 which is incompatible.\n",
            "dask 2024.10.0 requires cloudpickle>=3.0.0, but you have cloudpickle 1.1.1 which is incompatible.\n",
            "dopamine-rl 4.1.0 requires tensorflow-probability>=0.13.0, but you have tensorflow-probability 0.8.0rc0 which is incompatible.\n",
            "gym 0.25.2 requires cloudpickle>=1.2.0, but you have cloudpickle 1.1.1 which is incompatible.\u001b[0m\u001b[31m\n",
            "\u001b[0mSuccessfully installed cloudpickle-1.1.1 tensorflow_probability-0.8.0rc0\n"
          ]
        }
      ]
    },
    {
      "cell_type": "code",
      "source": [
        "import tensorflow_probability as tfp  # We are using a different module from tensorflow this time\n",
        "import tensorflow as tf"
      ],
      "metadata": {
        "id": "EPrZt6bsNBv7"
      },
      "execution_count": null,
      "outputs": []
    },
    {
      "cell_type": "markdown",
      "source": [
        "Taken direclty from the TensorFlow documentation (https://www.tensorflow.org/probability/api_docs/python/tfp/distributions/HiddenMarkovModel).\n",
        "\n",
        "We will model a simple weather system and try to predict the temperature on each day given the following information.\n",
        "\n",
        "Cold days are encoded by a 0 and hot days are encoded by a 1.\n",
        "The first day in our sequence has an 80% chance of being cold.\n",
        "A cold day has a 30% chance of being followed by a hot day.\n",
        "A hot day has a 20% chance of being followed by a cold day.\n",
        "On each day the temperature is normally distributed with mean and standard deviation 0 and 5 on a cold day and mean and standard deviation 15 and 10 on a hot day.\n",
        "If you're unfamiliar with standard deviation it can be put simply as the range of expected values.\n",
        "\n",
        "In this example, on a hot day the average temperature is 15 and ranges from 5 to 25.\n",
        "\n",
        "To model this in TensorFlow we will do the following."
      ],
      "metadata": {
        "id": "1qrAWM5QNIrH"
      }
    },
    {
      "cell_type": "code",
      "source": [
        "tfd = tfp.distributions  # making a shortcut for later on\n",
        "initial_distribution = tfd.Categorical(probs=[0.2, 0.8])  # Refer to point 2 above\n",
        "transition_distribution = tfd.Categorical(probs=[[0.5, 0.5],\n",
        "                                                 [0.2, 0.8]])  # refer to points 3 and 4 above\n",
        "observation_distribution = tfd.Normal(loc=[0., 15.], scale=[5., 10.])  # refer to point 5 above\n",
        "\n",
        "# the loc argument represents the mean and the scale is the standard devitation"
      ],
      "metadata": {
        "id": "t51rRIwHNEbG"
      },
      "execution_count": null,
      "outputs": []
    },
    {
      "cell_type": "markdown",
      "source": [
        "We've now created distribution variables to model our system and it's time to create the hidden markov model."
      ],
      "metadata": {
        "id": "gWyc5SMPNgPd"
      }
    },
    {
      "cell_type": "code",
      "source": [
        "model = tfd.HiddenMarkovModel(\n",
        "    initial_distribution=initial_distribution,\n",
        "    transition_distribution=transition_distribution,\n",
        "    observation_distribution=observation_distribution,\n",
        "    num_steps=7)"
      ],
      "metadata": {
        "id": "Ph-Fx6_uNeYE"
      },
      "execution_count": null,
      "outputs": []
    },
    {
      "cell_type": "markdown",
      "source": [
        "The number of steps represents the number of days that we would like to predict information for. In this case we've chosen 7, an entire week.\n",
        "\n",
        "To get the expected temperatures on each day we can do the following."
      ],
      "metadata": {
        "id": "Hv6TuMXVOnyG"
      }
    },
    {
      "cell_type": "code",
      "source": [
        "mean = model.mean()\n",
        "\n",
        "# due to the way TensorFlow works on a lower level we need to evaluate part of the graph\n",
        "# from within a session to see the value of this tensor\n",
        "\n",
        "# in the new version of tensorflow we need to use tf.compat.v1.Session() rather than just tf.Session()\n",
        "with tf.compat.v1.Session() as sess:\n",
        "  print(mean.numpy())"
      ],
      "metadata": {
        "colab": {
          "base_uri": "https://localhost:8080/"
        },
        "id": "vMbS9Bs5NjoS",
        "outputId": "a734b4ee-ff37-4a84-8ecd-78c7622233a4"
      },
      "execution_count": null,
      "outputs": [
        {
          "output_type": "stream",
          "name": "stdout",
          "text": [
            "[11.999999 11.1      10.830001 10.748999 10.724699 10.71741  10.715222]\n"
          ]
        }
      ]
    },
    {
      "cell_type": "markdown",
      "source": [
        "#Conclusion\n",
        "So that's it for the core learning algorithms in TensorFlow. Hopefully you've learned about a few interesting tools that are easy to use! To practice I'd encourage you to try out some of these algorithms on different datasets."
      ],
      "metadata": {
        "id": "PpgVv502P2Yg"
      }
    },
    {
      "cell_type": "markdown",
      "source": [
        "#Sources\n",
        "Chen, James. “Line Of Best Fit.” Investopedia, Investopedia, 29 Jan. 2020, www.investopedia.com/terms/l/line-of-best-fit.asp.\n",
        "“Tf.feature_column.categorical_column_with_vocabulary_list.” TensorFlow, www.tensorflow.org/api_docs/python/tf/feature_column/categorical_column_with_vocabulary_list?version=stable.\n",
        "“Build a Linear Model with Estimators  :   TensorFlow Core.” TensorFlow, www.tensorflow.org/tutorials/estimator/linear.\n",
        "Staff, EasyBib. “The Free Automatic Bibliography Composer.” EasyBib, Chegg, 1 Jan. 2020, www.easybib.com/project/style/mla8?id=1582473656_5e52a1b8c84d52.80301186.\n",
        "Seif, George. “The 5 Clustering Algorithms Data Scientists Need to Know.” Medium, Towards Data Science, 14 Sept. 2019, https://towardsdatascience.com/the-5-clustering-algorithms-data-scientists-need-to-know-a36d136ef68.\n",
        "Definition of Hidden Markov Model, http://jedlik.phy.bme.hu/~gerjanos/HMM/node4.html.\n",
        "“Tfp.distributions.HiddenMarkovModel  :   TensorFlow Probability.” TensorFlow, www.tensorflow.org/probability/api_docs/python/tfp/distributions/HiddenMarkovModel."
      ],
      "metadata": {
        "id": "9fQOjBIFSWNP"
      }
    },
    {
      "cell_type": "markdown",
      "source": [
        "#Introduction to Neural Networks\n",
        "In this notebook you will learn how to create and use a neural network to classify articles of clothing. To achieve this, we will use a sub module of TensorFlow called keras.\n",
        "\n",
        "This guide is based on the following TensorFlow documentation.\n",
        "\n",
        "https://www.tensorflow.org/tutorials/keras/classification"
      ],
      "metadata": {
        "id": "iuVz-KSgUFxQ"
      }
    },
    {
      "cell_type": "markdown",
      "source": [
        "#Keras\n",
        "Before we dive in and start discussing neural networks, I'd like to give a breif introduction to keras.\n",
        "\n",
        "From the keras official documentation (https://keras.io/) keras is described as follows.\n",
        "\n",
        "\"Keras is a high-level neural networks API, written in Python and capable of running on top of TensorFlow, CNTK, or Theano. It was developed with a focus on enabling fast experimentation.\n",
        "\n",
        "Use Keras if you need a deep learning library that:\n",
        "\n",
        "Allows for easy and fast prototyping (through user friendliness, modularity, and extensibility).\n",
        "Supports both convolutional networks and recurrent networks, as well as combinations of the two.\n",
        "Runs seamlessly on CPU and GPU.\"\n",
        "Keras is a very powerful module that allows us to avoid having to build neural networks from scratch. It also hides a lot of mathematical complexity (that otherwise we would have to implement) inside of helpful packages, modules and methods.\n",
        "\n",
        "In this guide we will use keras to quickly develop neural networks."
      ],
      "metadata": {
        "id": "R1CCyLbEZpGn"
      }
    },
    {
      "cell_type": "markdown",
      "source": [
        "#What is a Neural Network?\n",
        "So, what are these magical things that have been beating chess grandmasters, driving cars, detecting cancer cells and winning video games?\n",
        "\n",
        "A deep neural network is a layered representation of data. The term \"deep\" refers to the presence of multiple layers. Recall that in our core learning algorithms (like linear regression) data was not transformed or modified within the model, it simply existed in one layer. We passed some features to our model, some math was done, an answer was returned. The data was not changed or transformed throughout this process. A neural network processes our data differently. It attempts to represent our data in different ways and in different dimensions by applying specific operations to transform our data at each layer. Another way to express this is that at each layer our data is transformed in order to learn more about it. By performing these transformations, the model can better understand our data and therefore provide a better prediction."
      ],
      "metadata": {
        "id": "ACccXUeIaGA_"
      }
    },
    {
      "cell_type": "markdown",
      "source": [
        "How it Works\n",
        "Before going into too much detail I will provide a very surface level explination of how neural networks work on a mathematical level. All the terms and concepts I discuss will be defined and explained in more detail below.\n",
        "\n",
        "On a lower level neural networks are simply a combination of elementry math operations and some more advanced linear algebra. Each neural network consists of a sequence of layers in which data passes through. These layers are made up on neurons and the neurons of one layer are connected to the next (see below). These connections are defined by what we call a weight (some numeric value). Each layer also has something called a bias, this is simply an extra neuron that has no connections and holds a single numeric value. Data starts at the input layer and is trasnformed as it passes through subsequent layers. The data at each subsequent neuron is defined as the following.\n",
        "\n",
        "Y=(∑ni=0wixi)+b\n",
        "\n",
        "w  stands for the weight of each connection to the neuron\n",
        "\n",
        "x  stands for the value of the connected neuron from the previous value\n",
        "\n",
        "b  stands for the bias at each layer, this is a constant\n",
        "\n",
        "n  is the number of connections\n",
        "\n",
        "Y  is the output of the current neuron\n",
        "\n",
        "∑  stands for sum\n",
        "\n",
        "The equation you just read is called a weighed sum. We will take this weighted sum at each and every neuron as we pass information through the network. Then we will add what's called a bias to this sum. The bias allows us to shift the network up or down by a constant value. It is like the y-intercept of a line.\n",
        "\n",
        "But that equation is the not complete one! We forgot a crucial part, the activation function. This is a function that we apply to the equation seen above to add complexity and dimensionality to our network. Our new equation with the addition of an activation function  F(x)  is seen below.\n",
        "\n",
        "Y=F((∑ni=0wixi)+b)\n",
        "\n",
        "Our network will start with predefined activation functions (they may be different at each layer) but random weights and biases. As we train the network by feeding it data it will learn the correct weights and biases and adjust the network accordingly using a technqiue called backpropagation (explained below). Once the correct weights and biases have been learned our network will hopefully be able to give us meaningful predictions. We get these predictions by observing the values at our final layer, the output layer."
      ],
      "metadata": {
        "id": "_BjMt0Njax46"
      }
    },
    {
      "cell_type": "markdown",
      "source": [
        "#Data\n",
        "The type of data a neural network processes varies drastically based on the problem being solved. When we build a neural network, we define what shape and kind of data it can accept. It may sometimes be neccessary to modify our dataset so that it can be passed to our neural network.\n",
        "\n",
        "Some common types of data a neural network uses are listed below.\n",
        "\n",
        "Vector Data (2D)\n",
        "Timeseries or Sequence (3D)\n",
        "Image Data (4D)\n",
        "Video Data (5D)\n",
        "There are of course many different types or data, but these are the main categories."
      ],
      "metadata": {
        "id": "K81CKRKwbPwe"
      }
    },
    {
      "cell_type": "markdown",
      "source": [
        "#Layers\n",
        "As we mentioned earlier each neural network consists of multiple layers. At each layer a different transformation of data occurs. Our initial input data is fed through the layers and eventually arrives at the output layer where we will obtain the result.\n",
        "\n",
        "#Input Layer\n",
        "The input layer is the layer that our initial data is passed to. It is the first layer in our neural network.\n",
        "\n",
        "#Output Layer\n",
        "The output layer is the layer that we will retrive our results from. Once the data has passed through all other layers it will arrive here.\n",
        "\n",
        "#Hidden Layer(s)\n",
        "All the other layers in our neural network are called \"hidden layers\". This is because they are hidden to us, we cannot observe them. Most neural networks consist of at least one hidden layer but can have an unlimited amount. Typically, the more complex the model the more hidden layers.\n",
        "\n",
        "#Neurons\n",
        "Each layer is made up of what are called neurons. Neurons have a few different properties that we will discuss later. The important aspect to understand now is that each neuron is responsible for generating/holding/passing ONE numeric value.\n",
        "\n",
        "This means that in the case of our input layer it will have as many neurons as we have input information. For example, say we want to pass an image that is 28x28 pixels, thats 784 pixels. We would need 784 neurons in our input layer to capture each of these pixels.\n",
        "\n",
        "This also means that our output layer will have as many neurons as we have output information. The output is a little more complicated to understand so I'll refrain from an example right now but hopefully you're getting the idea.\n",
        "\n",
        "But what about our hidden layers? Well these have as many neurons as we decide. We'll discuss how we can pick these values later but understand a hidden layer can have any number of neurons.\n",
        "\n",
        "#Connected Layers\n",
        "So how are all these layers connected? Well the neurons in one layer will be connected to neurons in the subsequent layer. However, the neurons can be connected in a variety of different ways.\n",
        "\n",
        "Take for example Figure 1 (look above). Each neuron in one layer is connected to every neuron in the next layer. This is called a dense layer. There are many other ways of connecting layers but well discuss those as we see them.\n",
        "\n",
        "#Weights\n",
        "Weights are associated with each connection in our neural network. Every pair of connected nodes will have one weight that denotes the strength of the connection between them. These are vital to the inner workings of a neural network and will be tweaked as the neural network is trained. The model will try to determine what these weights should be to achieve the best result. Weights start out at a constant or random value and will change as the network sees training data.\n",
        "\n",
        "#Biases\n",
        "Biases are another important part of neural networks and will also be tweaked as the model is trained. A bias is simply a constant value associated with each layer. It can be thought of as an extra neuron that has no connections. The purpose of a bias is to shift an entire activation function by a constant value. This allows a lot more flexibllity when it comes to choosing an activation and training the network. There is one bias for each layer."
      ],
      "metadata": {
        "id": "yh_F0vvBbpj_"
      }
    },
    {
      "cell_type": "markdown",
      "source": [
        "#Activation Function\n",
        "Activation functions are simply a function that is applied to the weighed sum of a neuron. They can be anything we want but are typically higher order/degree functions that aim to add a higher dimension to our data. We would want to do this to introduce more comolexity to our model. By transforming our data to a higher dimension, we can typically make better, more complex predictions.\n",
        "\n",
        "A list of some common activation functions and their graphs can be seen below."
      ],
      "metadata": {
        "id": "6ldHwB0kdzGe"
      }
    },
    {
      "cell_type": "markdown",
      "source": [
        "![image.png](data:image/png;base64,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)"
      ],
      "metadata": {
        "id": "MYW2C0w_d3g8"
      }
    },
    {
      "cell_type": "markdown",
      "source": [
        "![image.png](data:image/png;base64,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)"
      ],
      "metadata": {
        "id": "Wyy2cHVjd4kA"
      }
    },
    {
      "cell_type": "markdown",
      "source": [
        "![image.png](data:image/png;base64,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)"
      ],
      "metadata": {
        "id": "o077GxgueCsj"
      }
    },
    {
      "cell_type": "markdown",
      "source": [
        "Backpropagation\n",
        "Backpropagation is the fundemental algorithm behind training neural networks. It is what changes the weights and biases of our network. To fully explain this process, we need to start by discussing something called a cost/loss function.\n",
        "\n",
        "Loss/Cost Function\n",
        "As we now know our neural network feeds information through the layers until it eventually reaches an output layer. This layer contains the results that we look at to determine the prediciton from our network. In the training phase it is likely that our network will make many mistakes and poor predicitions. In fact, at the start of training our network doesn't know anything (it has random weights and biases)!\n",
        "\n",
        "We need some way of evaluating if the network is doing well and how well it is doing. For our training data we have the features (input) and the labels (expected output), because of this we can compare the output from our network to the expected output. Based on the difference between these values we can determine if our network has done a good job or poor job. If the network has done a good job, we'll make minor changes to the weights and biases. If it has done a poor job our changes may be more drastic.\n",
        "\n",
        "So, this is where the cost/loss function comes in. This function is responsible for determining how well the network did. We pass it the output and the expected output, and it returns to us some value representing the cost/loss of the network. This effectively makes the networks job to optimize this cost function, trying to make it as low as possible.\n",
        "\n",
        "Some common loss/cost functions include.\n",
        "\n",
        "Mean Squared Error\n",
        "Mean Absolute Error\n",
        "Hinge Loss\n",
        "Gradient Descent\n",
        "Gradient descent and backpropagation are closely related. Gradient descent is the algorithm used to find the optimal paramaters (weights and biases) for our network, while backpropagation is the process of calculating the gradient that is used in the gradient descent step.\n",
        "\n",
        "Gradient descent requires some pretty advanced calculus and linear algebra to understand so we'll stay away from that for now. Let's just read the formal definition for now.\n",
        "\n",
        "\"Gradient descent is an optimization algorithm used to minimize some function by iteratively moving in the direction of steepest descent as defined by the negative of the gradient. In machine learning, we use gradient descent to update the parameters of our model.\" (https://ml-cheatsheet.readthedocs.io/en/latest/gradient_descent.html)\n",
        "\n",
        "And that's all we really need to know for now. I'll direct you to the video for a more in depth explination.\n",
        "\n"
      ],
      "metadata": {
        "id": "1cCWECEheegd"
      }
    },
    {
      "cell_type": "markdown",
      "source": [
        "NEURAL NETWORKS"
      ],
      "metadata": {
        "id": "ImZxo1QjefbR"
      }
    },
    {
      "cell_type": "code",
      "source": [
        "%tensorflow_version 2.x  # this line is not required unless you are in a notebook\n",
        "# TensorFlow and tf.keras\n",
        "import tensorflow as tf\n",
        "from tensorflow import keras\n",
        "\n",
        "# Helper libraries\n",
        "import numpy as np\n",
        "import matplotlib.pyplot as plt"
      ],
      "metadata": {
        "id": "TL-WB8JEUYTm",
        "colab": {
          "base_uri": "https://localhost:8080/"
        },
        "outputId": "92c160ed-4cad-4bb2-8718-6b59aedf906d"
      },
      "execution_count": 1,
      "outputs": [
        {
          "output_type": "stream",
          "name": "stdout",
          "text": [
            "Colab only includes TensorFlow 2.x; %tensorflow_version has no effect.\n"
          ]
        }
      ]
    },
    {
      "cell_type": "code",
      "source": [
        "fashion_mnist = keras.datasets.fashion_mnist  # load dataset\n",
        "\n",
        "(train_images, train_labels), (test_images, test_labels) = fashion_mnist.load_data()  # split into tetsing and training"
      ],
      "metadata": {
        "colab": {
          "base_uri": "https://localhost:8080/"
        },
        "id": "ZPpXrK7Da1On",
        "outputId": "de1e9640-2386-4932-bc4e-261e542b016c"
      },
      "execution_count": 3,
      "outputs": [
        {
          "output_type": "stream",
          "name": "stdout",
          "text": [
            "Downloading data from https://storage.googleapis.com/tensorflow/tf-keras-datasets/train-labels-idx1-ubyte.gz\n",
            "\u001b[1m29515/29515\u001b[0m \u001b[32m━━━━━━━━━━━━━━━━━━━━\u001b[0m\u001b[37m\u001b[0m \u001b[1m0s\u001b[0m 0us/step\n",
            "Downloading data from https://storage.googleapis.com/tensorflow/tf-keras-datasets/train-images-idx3-ubyte.gz\n",
            "\u001b[1m26421880/26421880\u001b[0m \u001b[32m━━━━━━━━━━━━━━━━━━━━\u001b[0m\u001b[37m\u001b[0m \u001b[1m2s\u001b[0m 0us/step\n",
            "Downloading data from https://storage.googleapis.com/tensorflow/tf-keras-datasets/t10k-labels-idx1-ubyte.gz\n",
            "\u001b[1m5148/5148\u001b[0m \u001b[32m━━━━━━━━━━━━━━━━━━━━\u001b[0m\u001b[37m\u001b[0m \u001b[1m0s\u001b[0m 1us/step\n",
            "Downloading data from https://storage.googleapis.com/tensorflow/tf-keras-datasets/t10k-images-idx3-ubyte.gz\n",
            "\u001b[1m4422102/4422102\u001b[0m \u001b[32m━━━━━━━━━━━━━━━━━━━━\u001b[0m\u001b[37m\u001b[0m \u001b[1m1s\u001b[0m 0us/step\n"
          ]
        }
      ]
    },
    {
      "cell_type": "code",
      "source": [
        "train_images.shape\n",
        "#60k images with 28*28 pixels"
      ],
      "metadata": {
        "colab": {
          "base_uri": "https://localhost:8080/"
        },
        "id": "I_q50AWfas_q",
        "outputId": "e2eecfb9-6d03-484a-fde6-5374a0511dc8"
      },
      "execution_count": 4,
      "outputs": [
        {
          "output_type": "execute_result",
          "data": {
            "text/plain": [
              "(60000, 28, 28)"
            ]
          },
          "metadata": {},
          "execution_count": 4
        }
      ]
    },
    {
      "cell_type": "code",
      "source": [
        "train_images[0,23,23]  # let's have a look at one pixel"
      ],
      "metadata": {
        "colab": {
          "base_uri": "https://localhost:8080/"
        },
        "id": "IwcqbM5eawMR",
        "outputId": "5ab3cdfe-9b08-4f67-cc03-79576e1263be"
      },
      "execution_count": 5,
      "outputs": [
        {
          "output_type": "execute_result",
          "data": {
            "text/plain": [
              "194"
            ]
          },
          "metadata": {},
          "execution_count": 5
        }
      ]
    },
    {
      "cell_type": "code",
      "source": [
        "train_labels[:10]  # let's have a look at the first 10 training labels"
      ],
      "metadata": {
        "colab": {
          "base_uri": "https://localhost:8080/"
        },
        "id": "_gvgYNTCbHvm",
        "outputId": "3f8c3aeb-e573-4403-a911-59dcddfc3059"
      },
      "execution_count": 6,
      "outputs": [
        {
          "output_type": "execute_result",
          "data": {
            "text/plain": [
              "array([9, 0, 0, 3, 0, 2, 7, 2, 5, 5], dtype=uint8)"
            ]
          },
          "metadata": {},
          "execution_count": 6
        }
      ]
    },
    {
      "cell_type": "markdown",
      "source": [
        "Our labels are integers ranging from 0 - 9. Each integer represents a specific article of clothing. We'll create an array of label names to indicate which is which."
      ],
      "metadata": {
        "id": "YHpslZXfdRJv"
      }
    },
    {
      "cell_type": "code",
      "source": [
        "class_names = ['T-shirt/top', 'Trouser', 'Pullover', 'Dress', 'Coat',\n",
        "               'Sandal', 'Shirt', 'Sneaker', 'Bag', 'Ankle boot']"
      ],
      "metadata": {
        "id": "C-yw8v1JdNGX"
      },
      "execution_count": 7,
      "outputs": []
    },
    {
      "cell_type": "code",
      "source": [
        "plt.figure()\n",
        "plt.imshow(train_images[1])\n",
        "plt.colorbar()\n",
        "plt.grid(False)\n",
        "plt.show()"
      ],
      "metadata": {
        "colab": {
          "base_uri": "https://localhost:8080/",
          "height": 430
        },
        "id": "mbdKE-4FdVz-",
        "outputId": "a29e70cf-d664-4a2f-e0f6-bba7ba2548a2"
      },
      "execution_count": 8,
      "outputs": [
        {
          "output_type": "display_data",
          "data": {
            "text/plain": [
              "<Figure size 640x480 with 2 Axes>"
            ],
            "image/png": "[encoded data removed]"
          },
          "metadata": {}
        }
      ]
    },
    {
      "cell_type": "markdown",
      "source": [
        "#data preprocessing"
      ],
      "metadata": {
        "id": "eD5wNN-edrQ0"
      }
    },
    {
      "cell_type": "markdown",
      "source": [
        "massive input info and tiny weights and it would make inputs :\n",
        "The last step before creating our model is to preprocess our data. This simply means applying some prior transformations to our data before feeding it the model. In this case we will simply scale all our greyscale pixel values (0-255) to be between 0 and 1. We can do this by dividing each value in the training and testing sets by 255.0. We do this because smaller values will make it easier for the model to process our values"
      ],
      "metadata": {
        "id": "kfh2VyMBd1Nk"
      }
    },
    {
      "cell_type": "code",
      "source": [
        "train_images = train_images / 255.0\n",
        "\n",
        "test_images = test_images / 255.0"
      ],
      "metadata": {
        "id": "7JmkdfPcdYjJ"
      },
      "execution_count": 9,
      "outputs": []
    },
    {
      "cell_type": "markdown",
      "source": [
        "Now it's time to build the model! We are going to use a keras sequential model with three different layers. This model represents a feed-forward neural network (one that passes values from left to right). We'll break down each layer and its architecture below."
      ],
      "metadata": {
        "id": "9nAIFJ_GfBpE"
      }
    },
    {
      "cell_type": "code",
      "source": [
        "model = keras.Sequential([# sequential paases info from left to right in neural network sequentially\n",
        "    keras.layers.Flatten(input_shape=(28, 28)),  # input layer (1)\n",
        "    keras.layers.Dense(128, activation='relu'),  # hidden layer (2)\n",
        "    keras.layers.Dense(10, activation='softmax') # output layer (3)\n",
        "])"
      ],
      "metadata": {
        "colab": {
          "base_uri": "https://localhost:8080/"
        },
        "id": "yc3vFcDhe9yE",
        "outputId": "0558ec09-e070-44f4-8377-917d40b90ea4"
      },
      "execution_count": 10,
      "outputs": [
        {
          "output_type": "stream",
          "name": "stderr",
          "text": [
            "/usr/local/lib/python3.10/dist-packages/keras/src/layers/reshaping/flatten.py:37: UserWarning: Do not pass an `input_shape`/`input_dim` argument to a layer. When using Sequential models, prefer using an `Input(shape)` object as the first layer in the model instead.\n",
            "  super().__init__(**kwargs)\n"
          ]
        }
      ]
    },
    {
      "cell_type": "markdown",
      "source": [
        "Layer 1: This is our input layer and it will conist of 784 neurons. We use the flatten layer with an input shape of (28,28) to denote that our input should come in in that shape. The flatten means that our layer will reshape the shape (28,28) array into a vector of 784 neurons so that each pixel will be associated with one neuron.\n",
        "\n",
        "Layer 2: This is our first and only hidden layer. The dense denotes that this layer will be fully connected and each neuron from the previous layer connects to each neuron of this layer. It has 128 neurons and uses the rectify linear unit activation function.\n",
        "\n",
        "Layer 3: This is our output later and is also a dense layer. It has 10 neurons that we will look at to determine our models output. Each neuron represnts the probabillity of a given image being one of the 10 different classes. The activation function softmax is used on this layer to calculate a probabillity distribution for each class. This means the value of any neuron in this layer will be between 0 and 1, where 1 represents a high probabillity of the image being that class."
      ],
      "metadata": {
        "id": "koEFuNaSfjfi"
      }
    },
    {
      "cell_type": "markdown",
      "source": [
        "#compile the model"
      ],
      "metadata": {
        "id": "71GMqsCLhOY-"
      }
    },
    {
      "cell_type": "code",
      "source": [
        "model.compile(optimizer='adam',\n",
        "              loss='sparse_categorical_crossentropy',\n",
        "              metrics=['accuracy'])"
      ],
      "metadata": {
        "id": "iM54lYSMfGaI"
      },
      "execution_count": 11,
      "outputs": []
    },
    {
      "cell_type": "markdown",
      "source": [
        "hyperparameter tuning is changing the values and seeing how these model perform with different values and outputs"
      ],
      "metadata": {
        "id": "2m33SWRshvnm"
      }
    },
    {
      "cell_type": "markdown",
      "source": [
        "#training or fitting the data"
      ],
      "metadata": {
        "id": "IQ7HcYHiiB2R"
      }
    },
    {
      "cell_type": "code",
      "source": [
        "model.fit(train_images, train_labels, epochs=10)  # we pass the data, labels and epochs and watch the magic!"
      ],
      "metadata": {
        "colab": {
          "base_uri": "https://localhost:8080/"
        },
        "id": "zSY9J9gxhWkM",
        "outputId": "91b22acb-34c8-423e-e29f-a963701a99e7"
      },
      "execution_count": 12,
      "outputs": [
        {
          "output_type": "stream",
          "name": "stdout",
          "text": [
            "Epoch 1/10\n",
            "\u001b[1m1875/1875\u001b[0m \u001b[32m━━━━━━━━━━━━━━━━━━━━\u001b[0m\u001b[37m\u001b[0m \u001b[1m6s\u001b[0m 3ms/step - accuracy: 0.7799 - loss: 0.6297\n",
            "Epoch 2/10\n",
            "\u001b[1m1875/1875\u001b[0m \u001b[32m━━━━━━━━━━━━━━━━━━━━\u001b[0m\u001b[37m\u001b[0m \u001b[1m7s\u001b[0m 4ms/step - accuracy: 0.8614 - loss: 0.3841\n",
            "Epoch 3/10\n",
            "\u001b[1m1875/1875\u001b[0m \u001b[32m━━━━━━━━━━━━━━━━━━━━\u001b[0m\u001b[37m\u001b[0m \u001b[1m6s\u001b[0m 3ms/step - accuracy: 0.8779 - loss: 0.3354\n",
            "Epoch 4/10\n",
            "\u001b[1m1875/1875\u001b[0m \u001b[32m━━━━━━━━━━━━━━━━━━━━\u001b[0m\u001b[37m\u001b[0m \u001b[1m8s\u001b[0m 4ms/step - accuracy: 0.8857 - loss: 0.3126\n",
            "Epoch 5/10\n",
            "\u001b[1m1875/1875\u001b[0m \u001b[32m━━━━━━━━━━━━━━━━━━━━\u001b[0m\u001b[37m\u001b[0m \u001b[1m5s\u001b[0m 3ms/step - accuracy: 0.8941 - loss: 0.2921\n",
            "Epoch 6/10\n",
            "\u001b[1m1875/1875\u001b[0m \u001b[32m━━━━━━━━━━━━━━━━━━━━\u001b[0m\u001b[37m\u001b[0m \u001b[1m12s\u001b[0m 4ms/step - accuracy: 0.8961 - loss: 0.2793\n",
            "Epoch 7/10\n",
            "\u001b[1m1875/1875\u001b[0m \u001b[32m━━━━━━━━━━━━━━━━━━━━\u001b[0m\u001b[37m\u001b[0m \u001b[1m6s\u001b[0m 3ms/step - accuracy: 0.9014 - loss: 0.2655\n",
            "Epoch 8/10\n",
            "\u001b[1m1875/1875\u001b[0m \u001b[32m━━━━━━━━━━━━━━━━━━━━\u001b[0m\u001b[37m\u001b[0m \u001b[1m8s\u001b[0m 4ms/step - accuracy: 0.9029 - loss: 0.2575\n",
            "Epoch 9/10\n",
            "\u001b[1m1875/1875\u001b[0m \u001b[32m━━━━━━━━━━━━━━━━━━━━\u001b[0m\u001b[37m\u001b[0m \u001b[1m11s\u001b[0m 4ms/step - accuracy: 0.9068 - loss: 0.2472\n",
            "Epoch 10/10\n",
            "\u001b[1m1875/1875\u001b[0m \u001b[32m━━━━━━━━━━━━━━━━━━━━\u001b[0m\u001b[37m\u001b[0m \u001b[1m6s\u001b[0m 3ms/step - accuracy: 0.9149 - loss: 0.2309\n"
          ]
        },
        {
          "output_type": "execute_result",
          "data": {
            "text/plain": [
              "<keras.src.callbacks.history.History at 0x7a31b3155900>"
            ]
          },
          "metadata": {},
          "execution_count": 12
        }
      ]
    },
    {
      "cell_type": "markdown",
      "source": [
        "Evaluating the Model\n",
        "Now it's time to test/evaluate the model. We can do this quite easily using another builtin method from keras.\n",
        "\n",
        "The verbose argument is defined from the keras documentation as: \"verbose: 0 or 1. Verbosity mode. 0 = silent, 1 = progress bar.\" (https://keras.io/models/sequential/)"
      ],
      "metadata": {
        "id": "zhan5kc2iN6Y"
      }
    },
    {
      "cell_type": "markdown",
      "source": [
        "#making predictions"
      ],
      "metadata": {
        "id": "wZfNFAMqjfMo"
      }
    },
    {
      "cell_type": "code",
      "source": [
        "predictions = model.predict(test_images)"
      ],
      "metadata": {
        "colab": {
          "base_uri": "https://localhost:8080/"
        },
        "id": "6PZsR2ApiIZ6",
        "outputId": "a96eb788-069a-400a-8344-6643d8034286"
      },
      "execution_count": 15,
      "outputs": [
        {
          "output_type": "stream",
          "name": "stdout",
          "text": [
            "\u001b[1m313/313\u001b[0m \u001b[32m━━━━━━━━━━━━━━━━━━━━\u001b[0m\u001b[37m\u001b[0m \u001b[1m0s\u001b[0m 1ms/step\n"
          ]
        }
      ]
    },
    {
      "cell_type": "code",
      "source": [
        "predictions[0]"
      ],
      "metadata": {
        "colab": {
          "base_uri": "https://localhost:8080/"
        },
        "id": "1Su7qd0pjmwz",
        "outputId": "001a338f-5288-407e-d6a0-8641a1ebda8e"
      },
      "execution_count": 16,
      "outputs": [
        {
          "output_type": "execute_result",
          "data": {
            "text/plain": [
              "array([5.30545918e-08, 9.20063470e-10, 1.02017985e-07, 3.03723482e-08,\n",
              "       2.99732470e-08, 6.16153283e-03, 8.51357584e-07, 6.91435765e-03,\n",
              "       1.05809725e-07, 9.86922860e-01], dtype=float32)"
            ]
          },
          "metadata": {},
          "execution_count": 16
        }
      ]
    },
    {
      "cell_type": "markdown",
      "source": [
        "we need higher accuracy overfit model can not act good for new data and will make false predictions"
      ],
      "metadata": {
        "id": "2kQXJSbuj5hk"
      }
    },
    {
      "cell_type": "markdown",
      "source": [
        "If we wan't to get the value with the highest score we can use a useful function from numpy called argmax(). This simply returns the index of the maximium value from a numpy array."
      ],
      "metadata": {
        "id": "-dPZWN-ekG6f"
      }
    },
    {
      "cell_type": "code",
      "source": [
        "np.argmax(predictions[0])"
      ],
      "metadata": {
        "colab": {
          "base_uri": "https://localhost:8080/"
        },
        "id": "6QUaRCeGjyEA",
        "outputId": "6f70dfda-6416-4c49-9eef-bc8cbf340a67"
      },
      "execution_count": 17,
      "outputs": [
        {
          "output_type": "execute_result",
          "data": {
            "text/plain": [
              "9"
            ]
          },
          "metadata": {},
          "execution_count": 17
        }
      ]
    },
    {
      "cell_type": "code",
      "source": [
        "test_labels[0]"
      ],
      "metadata": {
        "colab": {
          "base_uri": "https://localhost:8080/"
        },
        "id": "Emw_hBVgkLfA",
        "outputId": "934360a1-6a90-46ff-de1a-47aa1b0c75db"
      },
      "execution_count": 18,
      "outputs": [
        {
          "output_type": "execute_result",
          "data": {
            "text/plain": [
              "9"
            ]
          },
          "metadata": {},
          "execution_count": 18
        }
      ]
    },
    {
      "cell_type": "markdown",
      "source": [
        "#verifying predictions"
      ],
      "metadata": {
        "id": "JYBZaFSEkVaS"
      }
    },
    {
      "cell_type": "code",
      "source": [
        "COLOR = 'white'\n",
        "plt.rcParams['text.color'] = COLOR\n",
        "plt.rcParams['axes.labelcolor'] = COLOR\n",
        "\n",
        "def predict(model, image, correct_label):\n",
        "  class_names = ['T-shirt/top', 'Trouser', 'Pullover', 'Dress', 'Coat',\n",
        "               'Sandal', 'Shirt', 'Sneaker', 'Bag', 'Ankle boot']\n",
        "  prediction = model.predict(np.array([image]))\n",
        "  predicted_class = class_names[np.argmax(prediction)]\n",
        "\n",
        "  show_image(image, class_names[correct_label], predicted_class)\n",
        "\n",
        "\n",
        "def show_image(img, label, guess):\n",
        "  plt.figure()\n",
        "  plt.imshow(img, cmap=plt.cm.binary)\n",
        "  plt.title(\"Excpected: \" + label)\n",
        "  plt.xlabel(\"Guess: \" + guess)\n",
        "  plt.colorbar()\n",
        "  plt.grid(False)\n",
        "  plt.show()\n",
        "\n",
        "\n",
        "def get_number():\n",
        "  while True:\n",
        "    num = input(\"Pick a number: \")\n",
        "    if num.isdigit():\n",
        "      num = int(num)\n",
        "      if 0 <= num <= 1000:\n",
        "        return int(num)\n",
        "    else:\n",
        "      print(\"Try again...\")\n",
        "\n",
        "num = get_number()\n",
        "image = test_images[num]\n",
        "label = test_labels[num]\n",
        "predict(model, image, label)\n"
      ],
      "metadata": {
        "colab": {
          "base_uri": "https://localhost:8080/",
          "height": 508
        },
        "id": "nerUus8IkP5H",
        "outputId": "df70093c-a783-4681-92e8-a5f0c2a90ffd"
      },
      "execution_count": 20,
      "outputs": [
        {
          "output_type": "stream",
          "name": "stdout",
          "text": [
            "Pick a number: 5\n",
            "\u001b[1m1/1\u001b[0m \u001b[32m━━━━━━━━━━━━━━━━━━━━\u001b[0m\u001b[37m\u001b[0m \u001b[1m0s\u001b[0m 22ms/step\n"
          ]
        },
        {
          "output_type": "display_data",
          "data": {
            "text/plain": [
              "<Figure size 640x480 with 2 Axes>"
            ],
            "image/png": "[encoded data removed]"
          },
          "metadata": {}
        }
      ]
    },
    {
      "cell_type": "markdown",
      "source": [
        "Doshi, Sanket. “Various Optimization Algorithms For Training Neural Network.” Medium, Medium, 10 Mar. 2019, www.medium.com/@sdoshi579/optimizers-for-training-neural-network-59450d71caf6.\n",
        "\n",
        "“Basic Classification: Classify Images of Clothing  :   TensorFlow Core.” TensorFlow, www.tensorflow.org/tutorials/keras/classification.\n",
        "\n",
        "“Gradient Descent¶.” Gradient Descent - ML Glossary Documentation, www.ml-cheatsheet.readthedocs.io/en/latest/gradient_descent.html.\n",
        "\n",
        "Chollet François. Deep Learning with Python. Manning Publications Co., 2018.\n",
        "\n",
        "“Keras: The Python Deep Learning Library.” Home - Keras Documentation, www.keras.io/."
      ],
      "metadata": {
        "id": "tpWr7URlk7FY"
      }
    }
  ]
}